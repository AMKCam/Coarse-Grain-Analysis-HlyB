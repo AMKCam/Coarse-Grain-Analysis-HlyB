{
 "cells": [
  {
   "cell_type": "markdown",
   "metadata": {},
   "source": [
    "# HlyB All Trajectory Analysis"
   ]
  },
  {
   "cell_type": "markdown",
   "metadata": {},
   "source": [
    "## MD Analysis"
   ]
  },
  {
   "cell_type": "markdown",
   "metadata": {},
   "source": [
    "### Import Modules"
   ]
  },
  {
   "cell_type": "code",
   "execution_count": null,
   "metadata": {},
   "outputs": [],
   "source": [
    "import pandas as pd\n",
    "import matplotlib.pyplot as plt\n",
    "import numpy as np\n",
    "import seaborn as sns\n",
    "import statistics as s\n",
    "import MDAnalysis as mda\n",
    "import random"
   ]
  },
  {
   "cell_type": "markdown",
   "metadata": {},
   "source": [
    "### Helper Modules"
   ]
  },
  {
   "cell_type": "code",
   "execution_count": null,
   "metadata": {},
   "outputs": [],
   "source": [
    "# Converts 3 letter code to 1 letter code\n",
    "convert_to_one_letter_dic = {\"ALA\":\"A\", \"ARG\":\"R\", \"ASN\":\"N\", \"ASP\":\"D\", \"CYS\":\"C\", \"GLU\":\"E\", \"GLN\":\"Q\", \"GLY\":\"G\",\\\n",
    "                            \"HSD\":\"H\", \"HIS\": \"H\", \"HSE\":\"H\", \"ILE\": \"I\", \"LEU\": \"L\", \"LYS\":\"K\", \"MET\":\"M\", \"PHE\":\"F\", \"PRO\":\"P\",\\\n",
    "                            \"SER\":\"S\", \"THR\":\"T\", \"TRP\":\"W\", \"TYR\":\"Y\", \"VAL\":\"V\"}\n",
    "def convert_to_one_letter(string):\n",
    "    amino_acid = str(string[0:3])\n",
    "    return convert_to_one_letter_dic[amino_acid]"
   ]
  },
  {
   "cell_type": "code",
   "execution_count": null,
   "metadata": {},
   "outputs": [],
   "source": [
    "# Permutation test function\n",
    "def permutation(pooled,sizeA,sizeB,iterations):\n",
    "    \"\"\"\n",
    "    Function takes pooled samples and randomly shuffles them according to partition size.\n",
    "    New randommly shuffled partitions are sorted and substracted mean calculated (delta).\n",
    "    Delta appended to a list. \n",
    "    Set x iterations.\n",
    "    \"\"\"\n",
    "    count = 0\n",
    "    mean_list = []\n",
    "    while count < iterations:\n",
    "        np.random.shuffle(pooled)\n",
    "        new_A = pooled[:sizeA]\n",
    "        new_B = pooled[-sizeB:]\n",
    "        delta = s.mean(new_A) - s.mean(new_B)\n",
    "        mean_list.append(delta)\n",
    "        count += 1\n",
    "    return mean_list"
   ]
  },
  {
   "cell_type": "code",
   "execution_count": null,
   "metadata": {},
   "outputs": [],
   "source": [
    "def extract_chain_vals_temp(data):\n",
    "    \"\"\"\n",
    "    Function takes a dataframe and returns substrate or no substrate Lipid_Count values separated by temperature.\n",
    "    \"\"\"\n",
    "    sub_vals_30_deg = []\n",
    "    sub_vals_37_deg = []\n",
    "    no_sub_vals_30_deg = []\n",
    "    no_sub_vals_37_deg = []\n",
    "    for row in data.itertuples():\n",
    "        if row._2 == 'Yes':\n",
    "            if row._3 == 303.15:\n",
    "                sub_vals_30_deg.append(row.Lipid_Count)\n",
    "            elif row._3 == 310.15:\n",
    "                sub_vals_37_deg.append(row.Lipid_Count)\n",
    "        elif row._2 == 'No':\n",
    "            if row._3 == 303.15:\n",
    "                no_sub_vals_30_deg.append(row.Lipid_Count)\n",
    "            elif row._3 == 310.15:\n",
    "                no_sub_vals_37_deg.append(row.Lipid_Count)\n",
    "                \n",
    "    return sub_vals_30_deg, sub_vals_37_deg, no_sub_vals_30_deg, no_sub_vals_37_deg"
   ]
  },
  {
   "cell_type": "code",
   "execution_count": null,
   "metadata": {},
   "outputs": [],
   "source": [
    "def extract_chain_vals(data):\n",
    "    \"\"\"\n",
    "    Function takes a dataframe and returns substrate or no substrate Lipid_Count values.\n",
    "    \"\"\"\n",
    "    sub_vals = []\n",
    "    no_sub_vals = []\n",
    "    for row in data.itertuples():\n",
    "        if row._2 == 'Yes':\n",
    "            sub_vals.append(row.Lipid_Count)\n",
    "        elif row._2 == 'No':\n",
    "            no_sub_vals.append(row.Lipid_Count)\n",
    "                \n",
    "    return sub_vals, no_sub_vals"
   ]
  },
  {
   "cell_type": "code",
   "execution_count": null,
   "metadata": {},
   "outputs": [],
   "source": [
    "def chain_dic_frames(data):\n",
    "    \"\"\"\n",
    "    Function takes a dataframe and returns substrate or no substrate lipid interaction values based on chainID.\n",
    "    \"\"\"\n",
    "    sub_dic = dict()\n",
    "    nosub_dic = dict()\n",
    "    for row in data.itertuples():\n",
    "        if row._1 == \"Yes\":\n",
    "            sub_dic[(row.Chain,row.Joint_Position)] = row.Mean_Lipid_Count\n",
    "        elif row._1 == \"No\":\n",
    "            nosub_dic[(row.Chain,row.Joint_Position)] = row.Mean_Lipid_Count\n",
    "                \n",
    "    return sub_dic, nosub_dic"
   ]
  },
  {
   "cell_type": "code",
   "execution_count": null,
   "metadata": {},
   "outputs": [],
   "source": [
    "def chain_pair_vals(chain_A,chain_B):\n",
    "    \"\"\"\n",
    "    Function takes dictionary of chain values for chain A and B and returns the difference\n",
    "    when the amino acids match. Else searches for instances where amino acid is unique to chain A or B.\n",
    "    \"\"\"\n",
    "    A_B_diff = dict()\n",
    "    unique_A = dict()\n",
    "    unique_B = dict()\n",
    "    for k1,v1 in chain_A.items():\n",
    "        for k2,v2 in chain_B.items():\n",
    "            if k1 == k2:\n",
    "                diff = 0\n",
    "                diff = v1 - v2\n",
    "                A_B_diff[k1] = diff\n",
    "            elif k1 not in chain_B.keys():\n",
    "                unique_A[k1] = v1\n",
    "    for k3,v3 in chain_B.items():\n",
    "        if k3 not in chain_A.keys():\n",
    "            unique_B[k3] = v3\n",
    "    return A_B_diff, unique_A, unique_B"
   ]
  },
  {
   "cell_type": "code",
   "execution_count": null,
   "metadata": {},
   "outputs": [],
   "source": [
    "def bootstrap_lipid(pooled,n_samples,iterations):\n",
    "    random.seed(42) # set seed\n",
    "    count = 0\n",
    "    mean_diff_list = [] #store median difference values for plotting\n",
    "    while count < iterations:\n",
    "        # randomly select samples from the list without replacement\n",
    "        # calculate mean difference - smoother distn than calc median diff\n",
    "        np.random.shuffle(pooled) # first shuffle the data\n",
    "        sample_1 = random.sample(pooled, n_samples)\n",
    "        sample_2 = random.sample(pooled, n_samples)\n",
    "        mean_diff = np.mean(sample_1) - np.mean(sample_2)\n",
    "        mean_diff_list.append(mean_diff)\n",
    "        count += 1\n",
    "        \n",
    "    return mean_diff_list"
   ]
  },
  {
   "cell_type": "code",
   "execution_count": null,
   "metadata": {},
   "outputs": [],
   "source": [
    "def extract_lipid_vals_cdl2(data):\n",
    "    \"\"\"\n",
    "    Function takes a dataframe and returns values for CDL2 for either substrate or no substrate.\n",
    "    \"\"\"\n",
    "    cdl2_vals_sub = []\n",
    "    cdl2_vals_no_sub = []\n",
    "    for row in data.itertuples():\n",
    "        if row._2 == 'Yes':\n",
    "            cdl2_vals_sub.append(row.CDL2)\n",
    "        elif row._2 == 'No':\n",
    "            cdl2_vals_no_sub.append(row.CDL2)\n",
    "    return cdl2_vals_sub, cdl2_vals_no_sub"
   ]
  },
  {
   "cell_type": "code",
   "execution_count": null,
   "metadata": {},
   "outputs": [],
   "source": [
    "def extract_lipid_vals_temp_cdl2(data):\n",
    "    \"\"\"\n",
    "    Function takes a dataframe and returns values for CDL2 for either substrate or no substrate based on temp.\n",
    "    \"\"\"\n",
    "    cdl2_vals_sub_30_deg = []\n",
    "    cdl2_vals_sub_37_deg = []\n",
    "    cdl2_vals_no_sub_30_deg = []\n",
    "    cdl2_vals_no_sub_37_deg = []\n",
    "    for row in data.itertuples():\n",
    "        if row._2 == 'Yes':\n",
    "            if row._3 == 303.15:\n",
    "                cdl2_vals_sub_30_deg.append(row.CDL2)\n",
    "            elif row._3 == 310.15:\n",
    "                cdl2_vals_sub_37_deg.append(row.CDL2)\n",
    "        elif row._2 == 'No':\n",
    "            if row._3 == 303.15:\n",
    "                cdl2_vals_no_sub_30_deg.append(row.CDL2)\n",
    "            elif row._3 == 310.15:\n",
    "                cdl2_vals_no_sub_37_deg.append(row.CDL2)\n",
    "                \n",
    "    return cdl2_vals_sub_30_deg, cdl2_vals_sub_37_deg, cdl2_vals_no_sub_30_deg, cdl2_vals_no_sub_37_deg"
   ]
  },
  {
   "cell_type": "code",
   "execution_count": null,
   "metadata": {},
   "outputs": [],
   "source": [
    "def p_val(difference_dic,iterations,permute_results):\n",
    "    results_array = np.array(permute_results)\n",
    "    p_val_dict = dict()\n",
    "    for v1, v2 in difference_dic.items():\n",
    "        if v2 < 0:\n",
    "            diffCount = len(np.where(np.sort(results_array) <= v2)[0])\n",
    "            p_val = float(diffCount)/float(iterations)\n",
    "            p_val_dict[v1] = p_val\n",
    "        else:\n",
    "            diffCount = len(np.where(np.sort(results_array) >= v2)[0])\n",
    "            p_val = float(diffCount)/float(iterations)\n",
    "            p_val_dict[v1] = p_val\n",
    "    return p_val_dict"
   ]
  },
  {
   "cell_type": "code",
   "execution_count": null,
   "metadata": {},
   "outputs": [],
   "source": [
    "def sig_p_val(p_val_dic,sig_level):\n",
    "    num_tests = int(len(p_val_dic))\n",
    "    bonferroni = sig_level/num_tests\n",
    "    sig_vals = dict()\n",
    "    for key,val in p_val_dic.items():\n",
    "        if val <= bonferroni:\n",
    "            sig_vals[key] = val\n",
    "    return sig_vals"
   ]
  },
  {
   "cell_type": "code",
   "execution_count": null,
   "metadata": {},
   "outputs": [],
   "source": [
    "def lipid_dic_cdl2(data):\n",
    "    \"\"\"\n",
    "    Function takes a dataframe and returns cdl2 interaction values as a dictionary\n",
    "    by amino acid position and chain ID\n",
    "    \"\"\"\n",
    "    cdl2_sub_dic = dict()\n",
    "    cdl2_no_sub_dic = dict()\n",
    "    for row in data.itertuples():\n",
    "        if row._1 == 'Yes':\n",
    "            cdl2_sub_dic[(row.Chain,row.Joint_Position)] = row.Mean_CDL2_Count\n",
    "        elif row._1 == 'No':\n",
    "            cdl2_no_sub_dic[(row.Chain,row.Joint_Position)] = row.Mean_CDL2_Count\n",
    "            \n",
    "    return cdl2_sub_dic, cdl2_no_sub_dic"
   ]
  },
  {
   "cell_type": "code",
   "execution_count": null,
   "metadata": {},
   "outputs": [],
   "source": [
    "def extract_lipid_vals_pope_popg(data):\n",
    "    \"\"\"\n",
    "    Function takes a dataframe and returns values for POPE/POPG for either substrate or no substrate.\n",
    "    \"\"\"\n",
    "    pope_popg_vals_sub = []\n",
    "    pope_popg_vals_no_sub = []\n",
    "    for row in data.itertuples():\n",
    "        if row._2 == 'Yes':\n",
    "            pope_popg_vals_sub.append(row.POPE + row.POPG)\n",
    "        elif row._2 == 'No':\n",
    "            pope_popg_vals_no_sub.append(row.POPE + row.POPG)\n",
    "    return pope_popg_vals_sub, pope_popg_vals_no_sub"
   ]
  },
  {
   "cell_type": "code",
   "execution_count": null,
   "metadata": {},
   "outputs": [],
   "source": [
    "def extract_lipid_vals_temp_pope_popg(data):\n",
    "    \"\"\"\n",
    "    Function takes a dataframe and returns values for POPE/POPG for either substrate or no substrate based on temp.\n",
    "    \"\"\"\n",
    "    pope_popg_vals_sub_30_deg = []\n",
    "    pope_popg_vals_sub_37_deg = []\n",
    "    pope_popg_vals_no_sub_30_deg = []\n",
    "    pope_popg_vals_no_sub_37_deg = []\n",
    "    for row in data.itertuples():\n",
    "        if row._2 == 'Yes':\n",
    "            if row._3 == 303.15:\n",
    "                pope_popg_vals_sub_30_deg.append(row.POPE + row.POPG)\n",
    "            elif row._3 == 310.15:\n",
    "                pope_popg_vals_sub_37_deg.append(row.POPE + row.POPG)\n",
    "        elif row._2 == 'No':\n",
    "            if row._3 == 303.15:\n",
    "                pope_popg_vals_no_sub_30_deg.append(row.POPE + row.POPG)\n",
    "            elif row._3 == 310.15:\n",
    "                pope_popg_vals_no_sub_37_deg.append(row.POPE + row.POPG)\n",
    "                \n",
    "    return pope_popg_vals_sub_30_deg, pope_popg_vals_sub_37_deg, pope_popg_vals_no_sub_30_deg, pope_popg_vals_no_sub_37_deg"
   ]
  },
  {
   "cell_type": "code",
   "execution_count": null,
   "metadata": {},
   "outputs": [],
   "source": [
    "def lipid_dic_pope_popg(data):\n",
    "    \"\"\"\n",
    "    Function takes a dataframe and returns cdl2 interaction values as a dictionary\n",
    "    by amino acid position and chain ID\n",
    "    \"\"\"\n",
    "    pope_popg_sub_dic = dict()\n",
    "    pope_popg_no_sub_dic = dict()\n",
    "    for row in data.itertuples():\n",
    "        if row._1 == 'Yes':\n",
    "            pope_popg_sub_dic[(row.Chain,row.Joint_Position)] = row.Mean_POPE_POPG_Count\n",
    "        elif row._1 == 'No':\n",
    "            pope_popg_no_sub_dic[(row.Chain,row.Joint_Position)] = row.Mean_POPE_POPG_Count\n",
    "            \n",
    "    return pope_popg_sub_dic, pope_popg_no_sub_dic"
   ]
  },
  {
   "cell_type": "code",
   "execution_count": null,
   "metadata": {},
   "outputs": [],
   "source": [
    "def extract_sub_vals_clust(data):\n",
    "    \"\"\"\n",
    "    Function takes a dataframe and returns substrate or no substrate average median count values.\n",
    "    \"\"\"\n",
    "    sub_vals = []\n",
    "    no_sub_vals = []\n",
    "    for row in data.itertuples():\n",
    "        if row.Substrate == 'yes':\n",
    "            sub_vals.append(row.Scaled_Median_Count)\n",
    "        elif row.Substrate  == 'no':\n",
    "            no_sub_vals.append(row.Scaled_Median_Count)\n",
    "                \n",
    "    return sub_vals, no_sub_vals"
   ]
  },
  {
   "cell_type": "markdown",
   "metadata": {},
   "source": [
    "### Plots for thesis - set colours"
   ]
  },
  {
   "cell_type": "code",
   "execution_count": null,
   "metadata": {},
   "outputs": [],
   "source": [
    "palette = sns.color_palette(\"deep\")"
   ]
  },
  {
   "cell_type": "code",
   "execution_count": null,
   "metadata": {},
   "outputs": [],
   "source": [
    "blue = sns.color_palette(\"deep\")[0]\n",
    "orange = sns.color_palette(\"deep\")[1]\n",
    "green = sns.color_palette(\"deep\")[2]\n",
    "red = sns.color_palette(\"deep\")[3]\n",
    "purple = sns.color_palette(\"deep\")[4]\n",
    "brown = sns.color_palette(\"deep\")[5]\n",
    "pink = sns.color_palette(\"deep\")[6]\n",
    "grey = sns.color_palette(\"deep\")[7]\n",
    "gold = sns.color_palette(\"deep\")[8]\n",
    "turqoise = sns.color_palette(\"deep\")[9]"
   ]
  },
  {
   "cell_type": "markdown",
   "metadata": {},
   "source": [
    "### Define Universes"
   ]
  },
  {
   "cell_type": "code",
   "execution_count": null,
   "metadata": {},
   "outputs": [],
   "source": [
    "# Read trajectory - ignore warning as this is coarse grain\n",
    "u1 = mda.Universe(\"HlyB_closed_sub_30_deg_traj_1_chainAB.pdb\",\"HlyB_closed_sub_30_deg_skip1000_chainAB_traj_1.xtc\")\n",
    "u2 = mda.Universe(\"HlyB_closed_sub_30_deg_traj_2_chainAB.pdb\",\"HlyB_closed_sub_30_deg_skip1000_chainAB_traj_2.xtc\")\n",
    "u3 = mda.Universe(\"HlyB_closed_sub_37_deg_traj_1_chainAB.pdb\",\"HlyB_closed_sub_37_deg_skip1000_chainAB_traj_1.xtc\")\n",
    "u4 = mda.Universe(\"HlyB_closed_sub_37_deg_traj_2_chainAB.pdb\",\"HlyB_closed_sub_37_deg_skip1000_chainAB_traj_2.xtc\")\n",
    "u5 = mda.Universe(\"HlyB_closed_nosub_30_deg_traj_1_chainAB.pdb\",\"HlyB_closed_nosub_30_deg_skip1000_chainAB_traj_1.xtc\")\n",
    "u6 = mda.Universe(\"HlyB_closed_nosub_30_deg_traj_2_chainAB.pdb\",\"HlyB_closed_nosub_30_deg_skip1000_chainAB_traj_2.xtc\")\n",
    "u7 = mda.Universe(\"HlyB_closed_nosub_37_deg_traj_1_chainAB.pdb\",\"HlyB_closed_nosub_37_deg_skip1000_chainAB_traj_1.xtc\")\n",
    "u8 = mda.Universe(\"HlyB_closed_nosub_37_deg_traj_2_chainAB.pdb\",\"HlyB_closed_nosub_37_deg_skip1000_chainAB_traj_2.xtc\")"
   ]
  },
  {
   "cell_type": "markdown",
   "metadata": {},
   "source": [
    "### Ensemble Cluster Analysis"
   ]
  },
  {
   "cell_type": "markdown",
   "metadata": {},
   "source": [
    "This analysis only works with preselected atoms in trajectories. Only reduce number of frames to speed up calculation."
   ]
  },
  {
   "cell_type": "code",
   "execution_count": null,
   "metadata": {},
   "outputs": [],
   "source": [
    "# import modules\n",
    "from MDAnalysis.analysis import encore\n",
    "from MDAnalysis.analysis.encore.clustering import ClusteringMethod as clm"
   ]
  },
  {
   "cell_type": "code",
   "execution_count": null,
   "metadata": {},
   "outputs": [],
   "source": [
    "# Cluster\n",
    "ces0, details0 = encore.ces(ensembles=[u1,u2,u3,u4,u5,u6,u7,u8], select=\"type B\")"
   ]
  },
  {
   "cell_type": "code",
   "execution_count": null,
   "metadata": {},
   "outputs": [],
   "source": [
    "# Print cluster info\n",
    "cluster_collection = details0['clustering'][0]\n",
    "print(type(cluster_collection))\n",
    "print('We have found {} clusters'.format(len(cluster_collection)))"
   ]
  },
  {
   "cell_type": "code",
   "execution_count": null,
   "metadata": {},
   "outputs": [],
   "source": [
    "# k-means clustering\n",
    "km1 = clm.KMeans(128,  # no. clusters\n",
    "                 init = 'k-means++',  # default\n",
    "                 algorithm=\"auto\")    # default\n",
    "\n",
    "km2 = clm.KMeans(64,  # no. clusters\n",
    "                 init = 'k-means++',  # default\n",
    "                 algorithm=\"auto\")    # default\n",
    "\n",
    "km3 = clm.KMeans(32,  # no. clusters\n",
    "                 init = 'k-means++',  # default\n",
    "                 algorithm=\"auto\")    # default\n",
    "\n",
    "km4 = clm.KMeans(16,  # no. clusters\n",
    "                 init = 'k-means++',  # default\n",
    "                 algorithm=\"auto\")    # default\n",
    "\n"
   ]
  },
  {
   "cell_type": "code",
   "execution_count": null,
   "metadata": {},
   "outputs": [],
   "source": [
    "ces2, details2 = encore.ces([u1,u2,u3,u4,u5, u6, u7, u8],\n",
    "                         select='type B',\n",
    "                         clustering_method=[km1, km2, km3, km4],\n",
    "                         ncores=4)\n",
    "print(len(ces2), len(details2['clustering']))"
   ]
  },
  {
   "cell_type": "code",
   "execution_count": null,
   "metadata": {},
   "outputs": [],
   "source": [
    "# Plot clustering results\n",
    "titles = ['Kmeans 128 clusters', 'Kmeans 64 clusters', 'Kmeans 32 clusters', 'Kmeans 16 clusters']\n",
    "fig2, axes = plt.subplots(1, 4, sharey=True, figsize=(15, 4))\n",
    "for i, (data, title) in enumerate(zip(ces2, titles)):\n",
    "    imi = axes[i].imshow(data, vmax=np.log(2), vmin=0)\n",
    "    axes[i].set_xticks(np.arange(8))\n",
    "    axes[i].set_xticklabels(labels)\n",
    "    axes[i].set_title(title)\n",
    "plt.yticks(np.arange(8), labels)\n",
    "cbar2 = fig2.colorbar(imi, ax=axes.ravel().tolist())\n",
    "cbar2.set_label('Jensen-Shannon divergence')\n",
    "plt.savefig(\"Ensemble Cluster K means All Trajectories.png\", dpi = 300)"
   ]
  },
  {
   "cell_type": "code",
   "execution_count": null,
   "metadata": {},
   "outputs": [],
   "source": [
    "#estimate errors\n",
    "avgs, stds = encore.ces([u1, u2, u3, u4, u5, u6, u7, u8],\n",
    "                         select='type B',\n",
    "                         clustering_method=km3,\n",
    "                         estimate_error=True,\n",
    "                         ncores=4)"
   ]
  },
  {
   "cell_type": "code",
   "execution_count": null,
   "metadata": {},
   "outputs": [],
   "source": [
    "avgs"
   ]
  },
  {
   "cell_type": "code",
   "execution_count": null,
   "metadata": {},
   "outputs": [],
   "source": [
    "stds"
   ]
  },
  {
   "cell_type": "markdown",
   "metadata": {},
   "source": [
    "## Protein Lipid Contacts"
   ]
  },
  {
   "cell_type": "markdown",
   "metadata": {},
   "source": [
    "##### Raw Data "
   ]
  },
  {
   "cell_type": "code",
   "execution_count": null,
   "metadata": {},
   "outputs": [],
   "source": [
    "# Read in csv's\n",
    "df_1 = pd.read_csv(\"data/HlyB_sub_30_deg_traj_1_protein_lipid_contact.csv\")\n",
    "df_2 = pd.read_csv(\"data/HlyB_sub_30_deg_traj_2_protein_lipid_contact.csv\")\n",
    "df_3 = pd.read_csv(\"data/HlyB_sub_37_deg_traj_1_protein_lipid_contact.csv\")\n",
    "df_4 = pd.read_csv(\"data/HlyB_sub_37_deg_traj_2_protein_lipid_contact.csv\")\n",
    "df_5 = pd.read_csv(\"data/HlyB_nosub_30_deg_traj_1_protein_lipid_contact.csv\")\n",
    "df_6 = pd.read_csv(\"data/HlyB_nosub_30_deg_traj_2_protein_lipid_contact.csv\")\n",
    "df_7 = pd.read_csv(\"data/HlyB_nosub_37_deg_traj_1_protein_lipid_contact.csv\")\n",
    "df_8 = pd.read_csv(\"data/HlyB_nosub_37_deg_traj_2_protein_lipid_contact.csv\")"
   ]
  },
  {
   "cell_type": "markdown",
   "metadata": {},
   "source": [
    "#### Combine Data"
   ]
  },
  {
   "cell_type": "code",
   "execution_count": null,
   "metadata": {},
   "outputs": [],
   "source": [
    "frames = [df_1, df_2, df_3, df_4, df_5, df_6, df_7, df_8]\n",
    "combined_df = pd.concat(frames, ignore_index=True)"
   ]
  },
  {
   "cell_type": "code",
   "execution_count": null,
   "metadata": {},
   "outputs": [],
   "source": [
    "combined_df"
   ]
  },
  {
   "cell_type": "code",
   "execution_count": null,
   "metadata": {},
   "outputs": [],
   "source": [
    "#Add one letter code back in\n",
    "combined_df[\"Protein_Code\"] = combined_df[\"Protein_Type\"].apply(convert_to_one_letter)"
   ]
  },
  {
   "cell_type": "code",
   "execution_count": null,
   "metadata": {},
   "outputs": [],
   "source": [
    "combined_df[\"Joint_Position\"] = combined_df[\"Protein_Code\"].astype(str) + combined_df[\"Protein_ResID\"].astype(str)"
   ]
  },
  {
   "cell_type": "code",
   "execution_count": null,
   "metadata": {},
   "outputs": [],
   "source": [
    "# First group by ID to sum appropriate lipid values\n",
    "group_contact = combined_df.groupby([\"ID\",\"Substrate?\",\"Temperature(K)\",\"Chain\",\"Protein_ResID\",\"Joint_Position\", \"Lipid_Type\"])[\"Fraction_Frames\"].sum().unstack()"
   ]
  },
  {
   "cell_type": "code",
   "execution_count": null,
   "metadata": {},
   "outputs": [],
   "source": [
    "group_contact.reset_index(inplace = True) #Reset index to remove multi-indexing"
   ]
  },
  {
   "cell_type": "code",
   "execution_count": null,
   "metadata": {},
   "outputs": [],
   "source": [
    "#Fill in NaNs with 0s\n",
    "group_contact[\"CDL2\"].fillna(value = 0, inplace = True)\n",
    "group_contact[\"POPE\"].fillna(value = 0, inplace = True)\n",
    "group_contact[\"POPG\"].fillna(value = 0, inplace = True)"
   ]
  },
  {
   "cell_type": "code",
   "execution_count": null,
   "metadata": {},
   "outputs": [],
   "source": [
    "#sort values by protein position\n",
    "group_contact.sort_values(\"Protein_ResID\", axis = 0, ascending = True, inplace = True) "
   ]
  },
  {
   "cell_type": "code",
   "execution_count": null,
   "metadata": {},
   "outputs": [],
   "source": [
    "# Add in sub columns for plotting\n",
    "group_contact[\"Lipid_Count\"] = group_contact[\"CDL2\"] + group_contact[\"POPE\"] + group_contact[\"POPG\"]\n",
    "group_contact[\"POPE_POPG\"] = group_contact[\"POPE\"] + group_contact[\"POPG\"]\n",
    "group_contact[\"Substrate?_Temperature\"] = group_contact[\"Substrate?\"].astype(str) + \"_\" + group_contact[\"Temperature(K)\"].astype(str)\n",
    "group_contact[\"Substrate?_Temperature_Chain\"] = group_contact[\"Substrate?\"].astype(str) + \"_\" + group_contact[\"Temperature(K)\"].astype(str) + \"_\" + group_contact[\"Chain\"].astype(str)\n",
    "group_contact[\"Substrate?_Chain\"] = group_contact[\"Substrate?\"].astype(str) + \"_\" + group_contact[\"Chain\"].astype(str)"
   ]
  },
  {
   "cell_type": "code",
   "execution_count": null,
   "metadata": {},
   "outputs": [],
   "source": [
    "# Aggregate data - only separate by presence of substrate\n",
    "group_contact_cdl2_lipid = group_contact.groupby([\"ID\",\"Temperature(K)\",\"Substrate?\",\"Chain\",\"Protein_ResID\",\"Joint_Position\"])[\"CDL2\"].mean().unstack()\n",
    "group_contact_pope_popg_lipid = group_contact.groupby([\"ID\",\"Temperature(K)\",\"Substrate?\",\"Chain\",\"Protein_ResID\",\"Joint_Position\"])[\"POPE_POPG\"].mean().unstack()"
   ]
  },
  {
   "cell_type": "code",
   "execution_count": null,
   "metadata": {},
   "outputs": [],
   "source": [
    "#Reset index to remove multi-indexing\n",
    "group_contact_cdl2_lipid.reset_index(inplace = True)\n",
    "group_contact_pope_popg_lipid.reset_index(inplace = True)"
   ]
  },
  {
   "cell_type": "code",
   "execution_count": null,
   "metadata": {},
   "outputs": [],
   "source": [
    "# remove extra headers - cardiolipin\n",
    "head_list_cdl2_lipid = group_contact_cdl2_lipid.columns.tolist()\n",
    "head_list_cdl2_lipid.remove('ID')\n",
    "head_list_cdl2_lipid.remove('Temperature(K)')\n",
    "head_list_cdl2_lipid.remove('Substrate?')\n",
    "head_list_cdl2_lipid.remove('Chain')\n",
    "head_list_cdl2_lipid.remove('Protein_ResID')"
   ]
  },
  {
   "cell_type": "code",
   "execution_count": null,
   "metadata": {},
   "outputs": [],
   "source": [
    "# remove extra headers pope/popg\n",
    "head_list_pope_popg_lipid = group_contact_pope_popg_lipid.columns.tolist()\n",
    "head_list_pope_popg_lipid.remove('ID')\n",
    "head_list_pope_popg_lipid.remove('Temperature(K)')\n",
    "head_list_pope_popg_lipid.remove('Substrate?')\n",
    "head_list_pope_popg_lipid.remove('Chain')\n",
    "head_list_pope_popg_lipid.remove('Protein_ResID')"
   ]
  },
  {
   "cell_type": "code",
   "execution_count": null,
   "metadata": {},
   "outputs": [],
   "source": [
    "# Apply melt\n",
    "melt_group_contact_cdl2 = group_contact_cdl2_lipid.melt(id_vars=['ID','Temperature(K)','Substrate?','Chain','Protein_ResID'],value_vars=head_list_cdl2_lipid,value_name=\"Mean_CDL2_Count\")\n",
    "melt_group_contact_pope_popg = group_contact_pope_popg_lipid.melt(id_vars=['ID','Temperature(K)','Substrate?','Chain','Protein_ResID'],value_vars=head_list_pope_popg_lipid,value_name=\"Mean_POPE_POPG_Count\")"
   ]
  },
  {
   "cell_type": "code",
   "execution_count": null,
   "metadata": {},
   "outputs": [],
   "source": [
    "# Remove nan values\n",
    "melt_group_contact_cdl2.dropna(inplace = True)\n",
    "melt_group_contact_pope_popg.dropna(inplace = True)"
   ]
  },
  {
   "cell_type": "code",
   "execution_count": null,
   "metadata": {},
   "outputs": [],
   "source": [
    "# Sort for plotting - by protein residue number\n",
    "melt_group_contact_cdl2.sort_values([\"Protein_ResID\",\"Chain\"], axis = 0, ascending = True, inplace = True) \n",
    "melt_group_contact_pope_popg.sort_values([\"Protein_ResID\",\"Chain\"], axis = 0, ascending = True, inplace = True)"
   ]
  },
  {
   "cell_type": "code",
   "execution_count": null,
   "metadata": {},
   "outputs": [],
   "source": [
    "# Separate by substrate and chain ID\n",
    "melt_group_contact_cdl2[\"Substrate?_Chain\"] = melt_group_contact_cdl2[\"Substrate?\"].astype(str) + \"_\" +  melt_group_contact_cdl2[\"Chain\"].astype(str)\n",
    "melt_group_contact_pope_popg[\"Substrate?_Chain\"] = melt_group_contact_pope_popg[\"Substrate?\"].astype(str) + \"_\" +  melt_group_contact_pope_popg[\"Chain\"].astype(str)"
   ]
  },
  {
   "cell_type": "code",
   "execution_count": null,
   "metadata": {},
   "outputs": [],
   "source": [
    "# Remove small values\n",
    "melt_group_contact_cdl2_remove = melt_group_contact_cdl2[melt_group_contact_cdl2[\"Mean_CDL2_Count\"]>0.01]\n",
    "melt_group_contact_pope_popg_remove = melt_group_contact_pope_popg[melt_group_contact_pope_popg[\"Mean_POPE_POPG_Count\"]>0.01]"
   ]
  },
  {
   "cell_type": "markdown",
   "metadata": {},
   "source": [
    "Plotting when small values are removed will result in an incorrect plot. We will first define the positions which contain significantly large values, and remove others from the original \"melt_group_contact_{lipid}\" dataframe."
   ]
  },
  {
   "cell_type": "code",
   "execution_count": null,
   "metadata": {},
   "outputs": [],
   "source": [
    "# Define dictionary to store positions with significant cdl2 contacts\n",
    "x_axis_headers_cdl2 = []\n",
    "for row in melt_group_contact_cdl2_remove.itertuples():\n",
    "    if row.Joint_Position not in x_axis_headers_cdl2:\n",
    "        x_axis_headers_cdl2.append(row.Joint_Position)"
   ]
  },
  {
   "cell_type": "code",
   "execution_count": null,
   "metadata": {},
   "outputs": [],
   "source": [
    "# Define dictionary to store positions with significant pope/popg contacts\n",
    "x_axis_headers_popeg = []\n",
    "for row in melt_group_contact_pope_popg_remove.itertuples():\n",
    "    if row.Joint_Position not in x_axis_headers_popeg:\n",
    "        x_axis_headers_popeg.append(row.Joint_Position)"
   ]
  },
  {
   "cell_type": "code",
   "execution_count": null,
   "metadata": {},
   "outputs": [],
   "source": [
    "# Use these to make a new dataframe - cdl2\n",
    "cdl2_ID_list = []\n",
    "cdl2_temp_list = []\n",
    "cdl2_sub_list = []\n",
    "cdl2_chain_list = []\n",
    "cdl2_resid_list = []\n",
    "cdl2_joint_position_list = []\n",
    "cdl2_list = []\n",
    "cdl2_label_list = []"
   ]
  },
  {
   "cell_type": "code",
   "execution_count": null,
   "metadata": {},
   "outputs": [],
   "source": [
    "# Use these to make a new dataframe - pope/popg\n",
    "pope_popg_ID_list = []\n",
    "pope_popg_temp_list = []\n",
    "pope_popg_sub_list = []\n",
    "pope_popg_chain_list = []\n",
    "pope_popg_resid_list = []\n",
    "pope_popg_joint_position_list = []\n",
    "popeg_list = []\n",
    "pope_popg_label_list = []"
   ]
  },
  {
   "cell_type": "code",
   "execution_count": null,
   "metadata": {},
   "outputs": [],
   "source": [
    "# Loop over original dataframe and extract data from positions with significant cdl2 contacts\n",
    "for row in melt_group_contact_cdl2.itertuples():\n",
    "    if row.Joint_Position in x_axis_headers_cdl2:\n",
    "        cdl2_ID_list.append(row.ID)\n",
    "        cdl2_temp_list.append(row._2)\n",
    "        cdl2_sub_list.append(row._3)\n",
    "        cdl2_chain_list.append(row.Chain)\n",
    "        cdl2_resid_list.append(row.Protein_ResID)\n",
    "        cdl2_joint_position_list.append(row.Joint_Position)\n",
    "        cdl2_list.append(row.Mean_CDL2_Count)\n",
    "        cdl2_label_list.append(row._8)"
   ]
  },
  {
   "cell_type": "code",
   "execution_count": null,
   "metadata": {},
   "outputs": [],
   "source": [
    "# Loop over original dataframe and extract data from positions with significant pope/popg contacts\n",
    "for row in melt_group_contact_pope_popg.itertuples():\n",
    "    if row.Joint_Position in x_axis_headers_popeg:\n",
    "        pope_popg_ID_list.append(row.ID)\n",
    "        pope_popg_temp_list.append(row._2)\n",
    "        pope_popg_sub_list.append(row._3)\n",
    "        pope_popg_chain_list.append(row.Chain)\n",
    "        pope_popg_resid_list.append(row.Protein_ResID)\n",
    "        pope_popg_joint_position_list.append(row.Joint_Position)\n",
    "        popeg_list.append(row.Mean_POPE_POPG_Count)\n",
    "        pope_popg_label_list.append(row._8)"
   ]
  },
  {
   "cell_type": "code",
   "execution_count": null,
   "metadata": {},
   "outputs": [],
   "source": [
    "# Make a dictionary of the lists with column headings - cdl2\n",
    "data_cdl2 = {'ID':cdl2_ID_list, 'Temperature(K)':cdl2_temp_list, 'Substrate?':cdl2_sub_list,'Chain':cdl2_chain_list,\n",
    "        'Protein_ResID':cdl2_resid_list,'Joint_Position':cdl2_joint_position_list,\n",
    "        'Mean_CDL2_Count':cdl2_list, 'Substrate?_Chain':cdl2_label_list}"
   ]
  },
  {
   "cell_type": "code",
   "execution_count": null,
   "metadata": {},
   "outputs": [],
   "source": [
    "# Make a dictionary of the lists with column headings - pope/popg\n",
    "data_pope_popg = {'ID':pope_popg_ID_list, 'Temperature(K)':pope_popg_temp_list, 'Substrate?':pope_popg_sub_list,\n",
    "                  'Chain':pope_popg_chain_list, 'Protein_ResID':pope_popg_resid_list,\n",
    "                  'Joint_Position':pope_popg_joint_position_list, 'Mean_POPE_POPG_Count':popeg_list, \n",
    "                  'Substrate?_Chain':pope_popg_label_list}"
   ]
  },
  {
   "cell_type": "code",
   "execution_count": null,
   "metadata": {},
   "outputs": [],
   "source": [
    "# Use dictionaries to make new dataframes\n",
    "cdl2_new = pd.DataFrame.from_dict(data_cdl2)\n",
    "popeg_new = pd.DataFrame.from_dict(data_pope_popg)"
   ]
  },
  {
   "cell_type": "markdown",
   "metadata": {},
   "source": [
    "##### Plots for thesis"
   ]
  },
  {
   "cell_type": "code",
   "execution_count": null,
   "metadata": {},
   "outputs": [],
   "source": [
    "palette_dic = {\"Yes_A\":blue, \"No_A\":orange,\"Yes_B\":green,\"No_B\":red}"
   ]
  },
  {
   "cell_type": "code",
   "execution_count": null,
   "metadata": {},
   "outputs": [],
   "source": [
    "# Plot using seaborn - cdl2\n",
    "fig_dims = (40, 10)\n",
    "fig, ax = plt.subplots(figsize=fig_dims)\n",
    "melt_group_contact_cdl2_fig = sns.barplot(x = \"Joint_Position\", y = \"Mean_CDL2_Count\", \n",
    "                                          hue = \"Substrate?_Chain\", hue_order=[\"Yes_A\",\"No_A\",\"Yes_B\",\"No_B\"], \n",
    "                                          data = cdl2_new, palette=palette_dic, estimator=np.mean,ci=90, \n",
    "                                          ax=ax).get_figure()\n",
    "plt.xlabel(\"ResID\")\n",
    "plt.ylabel(\"CDL2 Fraction Frames\")\n",
    "plt.legend(loc='upper left');\n",
    "melt_group_contact_cdl2_fig.savefig(\"Mean CDL2 Count by Substrate and Chain Relabel Remove.png\", dpi = 300)"
   ]
  },
  {
   "cell_type": "code",
   "execution_count": null,
   "metadata": {},
   "outputs": [],
   "source": [
    "# Plot using seaborn - pope/popg\n",
    "fig_dims = (40, 10)\n",
    "fig, ax = plt.subplots(figsize=fig_dims)\n",
    "melt_group_contact_popeg_fig = sns.barplot(x = \"Joint_Position\", y = \"Mean_POPE_POPG_Count\", \n",
    "                                           hue = \"Substrate?_Chain\", hue_order=[\"Yes_A\",\"No_A\",\"Yes_B\",\"No_B\"], \n",
    "                                           data = popeg_new, palette=palette_dic, estimator=np.mean,ci=90, \n",
    "                                           ax=ax).get_figure()\n",
    "plt.xlabel(\"ResID\")\n",
    "plt.ylabel(\"POPE+POPG Fraction Frames\")\n",
    "plt.legend(loc='upper left');\n",
    "melt_group_contact_popeg_fig.savefig(\"Mean POPE POPG Count by Substrate and Chain Relabel Remove.png\", dpi = 300)"
   ]
  },
  {
   "cell_type": "markdown",
   "metadata": {},
   "source": [
    "##### Exploratory Plots"
   ]
  },
  {
   "cell_type": "code",
   "execution_count": null,
   "metadata": {},
   "outputs": [],
   "source": [
    "fig_dims = (40, 10)\n",
    "fig, ax = plt.subplots(figsize=fig_dims)\n",
    "group_contact_lip_fig = sns.barplot(x = \"Joint_Position\", y = \"Lipid_Count\", hue = \"Substrate?_Chain\", data = group_contact_lipid_count, ax=ax).get_figure();\n",
    "group_contact_lip_fig.savefig(\"Lipid Count Substrate and Chain.png\", dpi = 300)"
   ]
  },
  {
   "cell_type": "code",
   "execution_count": null,
   "metadata": {},
   "outputs": [],
   "source": [
    "fig_dims = (40, 10)\n",
    "fig, ax = plt.subplots(figsize=fig_dims)\n",
    "group_contact_lip_fig = sns.barplot(x = \"Joint Position\", y = \"Lipid Count\", hue = \"Substrate?_Temperature\", data = group_contact_lipid_count, ax=ax).get_figure();\n",
    "group_contact_lip_fig.savefig(\"Lipid Count Substrate and Temp.png\", dpi = 300)"
   ]
  },
  {
   "cell_type": "code",
   "execution_count": null,
   "metadata": {},
   "outputs": [],
   "source": [
    "fig_dims = (40, 10)\n",
    "fig, ax = plt.subplots(figsize=fig_dims)\n",
    "group_contact_sub_fig = sns.barplot(x = \"Joint Position\", y = \"Lipid Count\", hue = \"Substrate?\", data = group_contact_lipid_count, ax=ax).get_figure();\n",
    "group_contact_sub_fig.savefig(\"Lipid Count Substrate.png\", dpi = 300)"
   ]
  },
  {
   "cell_type": "code",
   "execution_count": null,
   "metadata": {},
   "outputs": [],
   "source": [
    "fig_dims = (40, 10)\n",
    "fig, ax = plt.subplots(figsize=fig_dims)\n",
    "group_contact_temp_fig = sns.barplot(x = \"Joint Position\", y = \"Lipid Count\", hue = \"Temperature (K)\", data = group_contact_lipid_count, ax=ax).get_figure();\n",
    "group_contact_temp_fig.savefig(\"Lipid Count Temperature.png\", dpi = 300)"
   ]
  },
  {
   "cell_type": "code",
   "execution_count": null,
   "metadata": {},
   "outputs": [],
   "source": [
    "fig_dims = (40, 10)\n",
    "fig, ax = plt.subplots(figsize=fig_dims)\n",
    "group_contact_cdl2_fig = sns.barplot(x = \"Joint_Position\", y = \"CDL2\", hue = \"Substrate?_Chain\", data = group_contact_cdl2, palette=palette_dic, estimator=np.mean,ci=90, ax=ax).get_figure()\n",
    "plt.xlabel(\"ResID\")\n",
    "plt.ylabel(\"CDL2 Fraction Frames\")\n",
    "plt.legend(loc='upper left');\n",
    "group_contact_cdl2_fig.savefig(\"CDL2 Count Substrate and Chain Remove Small Values Relabel Estimate.png\", dpi = 300)"
   ]
  },
  {
   "cell_type": "code",
   "execution_count": null,
   "metadata": {},
   "outputs": [],
   "source": [
    "fig_dims = (40, 10)\n",
    "fig, ax = plt.subplots(figsize=fig_dims)\n",
    "group_contact_pope_fig = sns.barplot(x = \"Joint Position\", y = \"POPE\", hue = \"Temperature (K)\", data = group_contact_pope, ax=ax).get_figure();\n",
    "group_contact_pope_fig.savefig(\"POPE Count Temperature.png\", dpi = 300)"
   ]
  },
  {
   "cell_type": "code",
   "execution_count": null,
   "metadata": {
    "scrolled": true
   },
   "outputs": [],
   "source": [
    "fig_dims = (40, 10)\n",
    "fig, ax = plt.subplots(figsize=fig_dims)\n",
    "group_contact_popg_fig = sns.barplot(x = \"Joint Position\", y = \"POPG\", hue = \"Substrate?_Temperature\", data = group_contact_popg, ax=ax).get_figure();\n",
    "group_contact_popg_fig.savefig(\"POPG Count Temp and Substrate.png\", dpi = 300)"
   ]
  },
  {
   "cell_type": "code",
   "execution_count": null,
   "metadata": {},
   "outputs": [],
   "source": [
    "fig_dims = (40, 10)\n",
    "fig, ax = plt.subplots(figsize=fig_dims)\n",
    "group_contact_pope_popg_fig = sns.barplot(x = \"Joint_Position\", y = \"POPE_POPG\", hue = \"Substrate?_Chain\", data = group_contact_pope_popg, palette=palette_dic,hue_order=[\"Yes_A\",\"No_A\",\"Yes_B\",\"No_B\"],ax=ax).get_figure()\n",
    "plt.xlabel(\"ResID\")\n",
    "plt.ylabel(\"POPE + POPG Fraction Frames\")\n",
    "plt.legend(loc='upper left');\n",
    "group_contact_pope_popg_fig.savefig(\"POPE and POPG Count Sub and Chain.png\", dpi = 300)"
   ]
  },
  {
   "cell_type": "markdown",
   "metadata": {},
   "source": [
    "# Significance Tests for Protein-Lipid Interactions"
   ]
  },
  {
   "cell_type": "markdown",
   "metadata": {},
   "source": [
    "#### Check if CDL2 Preference Between Substrate vs No Substrate"
   ]
  },
  {
   "cell_type": "markdown",
   "metadata": {},
   "source": [
    "Keep in mind this result is using all the data! Don't want to do test on data with small points removed - give biased results & skews the test. I made a plot with all the data for substrate & chain to confirm mean plot is correct. Also keep in mind that with the combined temps a bit of power is removed so we're only really detecting the very large differences in sub vs no sub split by chain - this is helpful to only focus on most promising leads. I checked the plots & confirmed they looked reasonable - only very large differences picked up as significant."
   ]
  },
  {
   "cell_type": "code",
   "execution_count": null,
   "metadata": {},
   "outputs": [],
   "source": [
    "# Extract lipid values based on substrate presence + temp - full data\n",
    "cdl2_sub_30, cdl2_sub_37, cdl2_nosub_30, cdl2_nosub_37 = extract_lipid_vals_temp_cdl2(group_contact)"
   ]
  },
  {
   "cell_type": "code",
   "execution_count": null,
   "metadata": {},
   "outputs": [],
   "source": [
    "#Extract values from original dataframe - full data\n",
    "cdl2_sub, cdl2_no_sub = extract_lipid_vals_cdl2(group_contact)"
   ]
  },
  {
   "cell_type": "code",
   "execution_count": null,
   "metadata": {},
   "outputs": [],
   "source": [
    "# Check paritions for sub + temp\n",
    "len(cdl2_nosub_30)"
   ]
  },
  {
   "cell_type": "markdown",
   "metadata": {},
   "source": [
    "length cdl2_sub_30 - 209\\\n",
    "length cdl2_sub_37 - 194\\\n",
    "length cdl2_nosub_30 - 212\\\n",
    "length cdl2_nosub_37 - 183\n",
    "\n",
    "\n",
    "Set these partitions"
   ]
  },
  {
   "cell_type": "code",
   "execution_count": null,
   "metadata": {},
   "outputs": [],
   "source": [
    "# Try bootstrap test for substrate vs no substrate CDL2 at 303.15 K\n",
    "pooled_cdl2_30_boot = list(np.hstack([cdl2_sub_30,cdl2_nosub_30]))\n",
    "n_samples = 42\n",
    "iterations = 1000000\n",
    "boot_test_cdl2_30 = bootstrap_lipid(pooled_cdl2_30_boot,n_samples,iterations)"
   ]
  },
  {
   "cell_type": "code",
   "execution_count": null,
   "metadata": {},
   "outputs": [],
   "source": [
    "#Plot bootstrap test histogram sub vs no sub CDL2 preference at 303.15 K\n",
    "plt.hist(boot_test_cdl2_30,bins=100);\n",
    "plt.title(\"Bootstrap Test CDL2 Preference Substrate vs No Substrate at 303.15 K\")\n",
    "plt.xlabel(\"Mean Difference\")\n",
    "plt.ylabel(\"Frequency\");\n",
    "plt.savefig(\"Bootstrap Test Histogram CDL2 Preference Substrate 30 Deg\", dpi=150)"
   ]
  },
  {
   "cell_type": "code",
   "execution_count": null,
   "metadata": {},
   "outputs": [],
   "source": [
    "# Try bootstrap test for substrate vs no substrate CDL2 at 310.15 K\n",
    "pooled_cdl2_37_boot = list(np.hstack([cdl2_sub_37,cdl2_nosub_37]))\n",
    "n_samples = 38\n",
    "iterations = 1000000\n",
    "boot_test_cdl2_37 = bootstrap_lipid(pooled_cdl2_37_boot,n_samples,iterations)"
   ]
  },
  {
   "cell_type": "code",
   "execution_count": null,
   "metadata": {},
   "outputs": [],
   "source": [
    "#Plot bootstrap test histogram sub vs no sub CDL2 preference at 310.15 K\n",
    "plt.hist(boot_test_cdl2_37,bins=100);\n",
    "plt.title(\"Bootstrap Test CDL2 Preference Substrate vs No Substrate at 310.15 K\")\n",
    "plt.xlabel(\"Mean Difference\")\n",
    "plt.ylabel(\"Frequency\");\n",
    "plt.savefig(\"Bootstrap Test Histogram CDL2 Preference Substrate 37 Deg\", dpi=150)"
   ]
  },
  {
   "cell_type": "markdown",
   "metadata": {},
   "source": [
    "Identical distributions for CDl2 at 303.15 and 310.15 K - can use same distribution and combine temps!"
   ]
  },
  {
   "cell_type": "code",
   "execution_count": null,
   "metadata": {},
   "outputs": [],
   "source": [
    "# Check paritions for sub\n",
    "len(cdl2_no_sub)"
   ]
  },
  {
   "cell_type": "markdown",
   "metadata": {},
   "source": [
    "403 values for CDL2 Substrate\\\n",
    "395 values for CDL2 No Substrate\n",
    "\n",
    "Set these partitions"
   ]
  },
  {
   "cell_type": "code",
   "execution_count": null,
   "metadata": {},
   "outputs": [],
   "source": [
    "# Try bootstrap test for substrate vs no substrate CDL2\n",
    "pooled_cdl2_boot = list(np.hstack([cdl2_sub,cdl2_no_sub]))\n",
    "n_samples = 80\n",
    "iterations = 1000000\n",
    "boot_test_cdl2 = bootstrap_lipid(pooled_cdl2_boot,n_samples,iterations)"
   ]
  },
  {
   "cell_type": "code",
   "execution_count": null,
   "metadata": {},
   "outputs": [],
   "source": [
    "#Plot bootstrap test histogram\n",
    "plt.hist(boot_test_cdl2,bins=100);\n",
    "plt.title(\"Bootstrap Test CDL2 Preference Substrate vs No Substrate\")\n",
    "plt.xlabel(\"Mean Difference\")\n",
    "plt.ylabel(\"Frequency\");\n",
    "plt.savefig(\"Boostrap Test Histogram CDL2 Preference Substrate\", dpi=150)"
   ]
  },
  {
   "cell_type": "code",
   "execution_count": null,
   "metadata": {},
   "outputs": [],
   "source": [
    "# Separate out substrate and no substrate for cdl2\n",
    "dic_cdl2_sub, dic_cdl2_no_sub = lipid_dic_cdl2(melt_group_contact_cdl2)"
   ]
  },
  {
   "cell_type": "code",
   "execution_count": null,
   "metadata": {},
   "outputs": [],
   "source": [
    "# Calculate differences in cdl2 values based on protein residue\n",
    "cdl2_sub_diff, cdl2_sub_unique, cdl2_no_sub_unique = chain_pair_vals(dic_cdl2_sub,dic_cdl2_no_sub)"
   ]
  },
  {
   "cell_type": "code",
   "execution_count": null,
   "metadata": {},
   "outputs": [],
   "source": [
    "#Combine all three dicts to one dictionary\n",
    "total_cdl2_diff = {**cdl2_sub_diff,**cdl2_sub_unique,**cdl2_no_sub_unique}"
   ]
  },
  {
   "cell_type": "code",
   "execution_count": null,
   "metadata": {},
   "outputs": [],
   "source": [
    "#Actual difference between substrate vs no substrate CDL2 preference\n",
    "plt.hist(total_cdl2_diff.values(),bins=100);\n",
    "plt.title(\"Actual Substrate vs No Substrate CDL2 Preference\")\n",
    "plt.xlabel(\"Mean Difference\")\n",
    "plt.ylabel(\"Frequency\");\n",
    "#plt.savefig(\"Histogram Substrate vs No Substrate CDL2 Preference\", dpi=150)"
   ]
  },
  {
   "cell_type": "code",
   "execution_count": null,
   "metadata": {},
   "outputs": [],
   "source": [
    "#Calculate p-values using bootstrap test distribution for CDL2 preference\n",
    "cdl2_diff_p_val_boot = p_val(total_cdl2_diff,iterations,boot_test_cdl2)"
   ]
  },
  {
   "cell_type": "code",
   "execution_count": null,
   "metadata": {},
   "outputs": [],
   "source": [
    "# Convert p-values dictionary to dataframe for saving\n",
    "cdl2_diff_p_val_bootseries = pd.Series(cdl2_diff_p_val_boot, name='p-value')\n",
    "cdl2_diff_p_val_bootseries.index.name = \"Amino Acid\"\n",
    "cdl2_diff_p_val_bootseries.reset_index()"
   ]
  },
  {
   "cell_type": "code",
   "execution_count": null,
   "metadata": {},
   "outputs": [],
   "source": [
    "#save p-values!\n",
    "cdl2_diff_p_val_bootseries.to_csv('CDL2 Substrate vs No Substrate p-values bootstrap.csv')"
   ]
  },
  {
   "cell_type": "code",
   "execution_count": null,
   "metadata": {},
   "outputs": [],
   "source": [
    "#Filter for significant p-values for CDL2 preference\n",
    "cdl2_diff_p_val_sig_boot = sig_p_val(cdl2_diff_p_val_boot,0.05)"
   ]
  },
  {
   "cell_type": "code",
   "execution_count": null,
   "metadata": {},
   "outputs": [],
   "source": [
    "cdl2_diff_p_val_sig_boot"
   ]
  },
  {
   "cell_type": "markdown",
   "metadata": {},
   "source": [
    "11 amino acids with a statistically significant (1%) difference in CDL2 preference between substrate and no substrate based on the bootstrap test:\n",
    "\n",
    "Chain A:\\\n",
    "N68, T87, K88, T141, R151, R186 (only at 5% sig level), N192, Q268, K369, S402, Q432\n",
    "\n",
    "Chain B:\\\n",
    "Q432\n",
    "\n",
    "CDL2 favoured when substrate present (Chain A):\\\n",
    "N68, T87, K88, T141, Q268, K369, S402\n",
    "\n",
    "CDL2 favoured when substrate not present (Chain A):\\\n",
    "R151, N192, Q432\n",
    "\n",
    "CDL2 favoured when substrate present (Chain B):\\\n",
    "Q432\n",
    "\n",
    "CDL2 favoured when substrate not present (Chain B):\\\n",
    "None\n"
   ]
  },
  {
   "cell_type": "markdown",
   "metadata": {},
   "source": [
    "#### POPE/POPG Preference Substrate vs No Substrate"
   ]
  },
  {
   "cell_type": "code",
   "execution_count": null,
   "metadata": {},
   "outputs": [],
   "source": [
    "# Extract lipid values based on substrate presence + temp - full data\n",
    "pope_popg_sub_30, pope_popg_sub_37, pope_popg_nosub_30, pope_popg_nosub_37 = extract_lipid_vals_temp_pope_popg(group_contact)"
   ]
  },
  {
   "cell_type": "code",
   "execution_count": null,
   "metadata": {},
   "outputs": [],
   "source": [
    "#Extract values from original dataframe - full data\n",
    "pope_popg_sub, pope_popg_no_sub = extract_lipid_vals_pope_popg(group_contact)"
   ]
  },
  {
   "cell_type": "code",
   "execution_count": null,
   "metadata": {},
   "outputs": [],
   "source": [
    "len(pope_popg_nosub_30)"
   ]
  },
  {
   "cell_type": "markdown",
   "metadata": {},
   "source": [
    "length pope_popg_sub_30 - 209\\\n",
    "length pope_popg_sub_37 - 194\\\n",
    "length pope_popg_nosub_30 - 212\\\n",
    "length pope_popg_nosub_37 - 183\n",
    "\n",
    "Set these partitions\n"
   ]
  },
  {
   "cell_type": "code",
   "execution_count": null,
   "metadata": {},
   "outputs": [],
   "source": [
    "# Try bootstrap test for POPE/POPG preference substrate vs no substrate at 303.15 K\n",
    "pooled_pope_popg_boot = list(np.hstack([pope_popg_sub_30,pope_popg_nosub_30]))\n",
    "n_samples = 40\n",
    "iterations = 1000000\n",
    "boot_test_pope_popg_30 = bootstrap_lipid(pooled_pope_popg_boot,n_samples,iterations)"
   ]
  },
  {
   "cell_type": "code",
   "execution_count": null,
   "metadata": {},
   "outputs": [],
   "source": [
    "#Plot bootstrap test histogram at 303.15 K\n",
    "plt.hist(boot_test_pope_popg_30,bins=100);\n",
    "plt.title(\"Bootstrap Test POPE/POPG Preference Substrate vs No Substrate at 303.15 K\")\n",
    "plt.xlabel(\"Mean Difference\")\n",
    "plt.ylabel(\"Frequency\");\n",
    "plt.savefig(\"Bootstrap Test Histogram Substrate vs No Substrate POPE POPG Preference 30 Deg\", dpi=150)"
   ]
  },
  {
   "cell_type": "code",
   "execution_count": null,
   "metadata": {},
   "outputs": [],
   "source": [
    "# Try bootstrap test for POPE/POPG preference substrate vs no substrate at 310.15 K\n",
    "pooled_pope_popg_boot_37 = list(np.hstack([pope_popg_sub_37,pope_popg_nosub_37]))\n",
    "n_samples = 40\n",
    "iterations = 1000000\n",
    "boot_test_pope_popg_37 = bootstrap_lipid(pooled_pope_popg_boot_37,n_samples,iterations)"
   ]
  },
  {
   "cell_type": "code",
   "execution_count": null,
   "metadata": {},
   "outputs": [],
   "source": [
    "#Plot bootstrap test histogram at 310.15 K\n",
    "plt.hist(boot_test_pope_popg_37,bins=100);\n",
    "plt.title(\"Bootstrap Test POPE/POPG Preference Substrate vs No Substrate at 310.15 K\")\n",
    "plt.xlabel(\"Mean Difference\")\n",
    "plt.ylabel(\"Frequency\");\n",
    "plt.savefig(\"Bootstrap Test Histogram Substrate vs No Substrate POPE POPG Preference 37 Deg\", dpi=150)"
   ]
  },
  {
   "cell_type": "markdown",
   "metadata": {},
   "source": [
    "Identical distributions for CDl2 at 303.15 and 310.15 K - can use same distribution and combine temps!"
   ]
  },
  {
   "cell_type": "code",
   "execution_count": null,
   "metadata": {},
   "outputs": [],
   "source": [
    "len(pope_popg_no_sub)"
   ]
  },
  {
   "cell_type": "markdown",
   "metadata": {},
   "source": [
    "pope_popg_sub - 403\\\n",
    "pope_popg_no_sub - 395\n",
    "\n",
    "Set these partitions"
   ]
  },
  {
   "cell_type": "code",
   "execution_count": null,
   "metadata": {},
   "outputs": [],
   "source": [
    "# Get bootstrap test for substrate vs no substrate POPE/POPG preference\n",
    "pooled_pope_popg_boot = list(np.hstack([pope_popg_sub,pope_popg_no_sub]))\n",
    "n_samples = 80\n",
    "iterations = 1000000\n",
    "boot_test_pope_popg = bootstrap_lipid(pooled_pope_popg_boot,n_samples,iterations)"
   ]
  },
  {
   "cell_type": "code",
   "execution_count": null,
   "metadata": {},
   "outputs": [],
   "source": [
    "#Plot bootstrap test histogram\n",
    "plt.hist(boot_test_pope_popg,bins=100);\n",
    "plt.title(\"Boostrap Test POPE/POPG Preference Substrate vs No Substrate\")\n",
    "plt.xlabel(\"Mean Difference\")\n",
    "plt.ylabel(\"Frequency\");\n",
    "plt.savefig(\"Bootstrap Test Histogram POPE and POPG Preference Substrate\", dpi=150)"
   ]
  },
  {
   "cell_type": "code",
   "execution_count": null,
   "metadata": {},
   "outputs": [],
   "source": [
    "# Separate out substrate and no substrate for pope/popg\n",
    "dic_pope_popg_sub, dic_pope_popg_no_sub = lipid_dic_pope_popg(melt_group_contact_pope_popg)"
   ]
  },
  {
   "cell_type": "code",
   "execution_count": null,
   "metadata": {},
   "outputs": [],
   "source": [
    "# Calculate differences in pope/popg values based on protein residue\n",
    "pope_popg_sub_diff, pope_popg_sub_unique, pope_popg_no_sub_unique = chain_pair_vals(dic_pope_popg_sub,dic_pope_popg_no_sub)"
   ]
  },
  {
   "cell_type": "code",
   "execution_count": null,
   "metadata": {},
   "outputs": [],
   "source": [
    "#Combine all three dicts to one dictionary\n",
    "total_pope_popg_diff = {**pope_popg_sub_diff,**pope_popg_sub_unique,**pope_popg_no_sub_unique}"
   ]
  },
  {
   "cell_type": "code",
   "execution_count": null,
   "metadata": {},
   "outputs": [],
   "source": [
    "#Actual difference between POPE/POPG preference substrate vs no substrate\n",
    "plt.hist(total_pope_popg_diff.values(),bins=100);\n",
    "plt.title(\"Actual Substrate vs No Substrate POPE/POPG Preference\")\n",
    "plt.xlabel(\"Mean Difference\")\n",
    "plt.ylabel(\"Frequency\");\n",
    "#plt.savefig(\"Histogram Substrate vs No Substrate POPE POPG Preference\", dpi=150)"
   ]
  },
  {
   "cell_type": "code",
   "execution_count": null,
   "metadata": {},
   "outputs": [],
   "source": [
    "#Calculate p-values using bootstrap test distribution for POPE/POPG\n",
    "pope_popg_diff_p_val_boot = p_val(total_pope_popg_diff,iterations,boot_test_pope_popg)"
   ]
  },
  {
   "cell_type": "code",
   "execution_count": null,
   "metadata": {},
   "outputs": [],
   "source": [
    "# Convert p-values dictionary to dataframe for saving\n",
    "pope_popg_diff_p_val_series_boot = pd.Series(pope_popg_diff_p_val_boot, name='p-value')\n",
    "pope_popg_diff_p_val_series_boot.index.name = \"Amino Acid\"\n",
    "pope_popg_diff_p_val_series_boot.reset_index()"
   ]
  },
  {
   "cell_type": "code",
   "execution_count": null,
   "metadata": {},
   "outputs": [],
   "source": [
    "#save p-values!\n",
    "pope_popg_diff_p_val_series_boot.to_csv('Substrate vs No Substrate POPE POPG Preference p-values bootstrap.csv')"
   ]
  },
  {
   "cell_type": "code",
   "execution_count": null,
   "metadata": {},
   "outputs": [],
   "source": [
    "#Filter for significant p-values for bootstrap test\n",
    "pope_popg_diff_p_val_sig_boot = sig_p_val(pope_popg_diff_p_val_boot,0.05)"
   ]
  },
  {
   "cell_type": "code",
   "execution_count": null,
   "metadata": {},
   "outputs": [],
   "source": [
    "pope_popg_diff_p_val_sig_boot"
   ]
  },
  {
   "cell_type": "markdown",
   "metadata": {},
   "source": [
    "Set of 21 amino acids with a significant difference (1%) in POPE/POPG preference between substrate vs no substrate for boostrap test:\n",
    "\n",
    "Chain A:\\\n",
    "Q19, N22, N68, T87, S90, N94, N105, Q111 (5% sig level), S112, T141, S189, T190 (5% sig level), N192, S219 (5% sig level), S272, S312, Q409, Q429, Q435, Q436 \n",
    "\n",
    "Chain B:\\\n",
    "N192 (5% sig level), S312, S402, Q435\n",
    "\n",
    "In favour of presence of substrate (Chain A):\\\n",
    "Q19, N22, N68, T87, N94, N105, Q111, S112, T141, N192, S219, S312, Q435, Q436\n",
    "\n",
    "In favour of presence of substrate (Chain B):\\\n",
    "S312, S402\n",
    "\n",
    "In favour of no substrate presence (Chain A):\\\n",
    "S90, S189, T190, S272, Q409, Q429\n",
    "\n",
    "In favour of no substrate presence (Chain B):\\\n",
    "N192, Q435\n"
   ]
  },
  {
   "cell_type": "markdown",
   "metadata": {},
   "source": [
    "## Protein-Substrate Contacts"
   ]
  },
  {
   "cell_type": "markdown",
   "metadata": {},
   "source": [
    "### Import Data"
   ]
  },
  {
   "cell_type": "code",
   "execution_count": null,
   "metadata": {},
   "outputs": [],
   "source": [
    "sub_df_1 = pd.read_csv(\"data/protein_substrate_contacts_30_deg_traj_1.csv\")\n",
    "sub_df_2 = pd.read_csv(\"data/protein_substrate_contacts_30_deg_traj_2.csv\")\n",
    "sub_df_3 = pd.read_csv(\"data/protein_substrate_contacts_37_deg_traj_1.csv\")\n",
    "sub_df_4 = pd.read_csv(\"data/protein_substrate_contacts_37_deg_traj_2.csv\")"
   ]
  },
  {
   "cell_type": "code",
   "execution_count": null,
   "metadata": {},
   "outputs": [],
   "source": [
    "sub_frames = [sub_df_1,sub_df_2,sub_df_3,sub_df_4]\n",
    "df_substrate = pd.concat(sub_frames, ignore_index=True)"
   ]
  },
  {
   "cell_type": "markdown",
   "metadata": {},
   "source": [
    "### Extract Amino Acid Type"
   ]
  },
  {
   "cell_type": "code",
   "execution_count": null,
   "metadata": {},
   "outputs": [],
   "source": [
    "df_substrate[\"Substrate Joint Position\"] = df_substrate[\"Substrate Protein Type\"].astype(str) + df_substrate[\"Substrate Protein ResID\"].astype(str)\n",
    "df_substrate[\"Acceptor Joint Position\"] = df_substrate[\"Acceptor Protein Type\"].astype(str) + df_substrate[\"Acceptor Protein ResID\"].astype(str)"
   ]
  },
  {
   "cell_type": "code",
   "execution_count": null,
   "metadata": {},
   "outputs": [],
   "source": [
    "#sort values by protein position\n",
    "df_substrate.sort_values(\"Acceptor Protein ResID\", axis = 0, ascending = True, inplace = True)"
   ]
  },
  {
   "cell_type": "code",
   "execution_count": null,
   "metadata": {},
   "outputs": [],
   "source": [
    "# Calculate mean fraction frames\n",
    "group_sub_contact = df_substrate.groupby([\"ID\",\"Temperature (K)\",\"Acceptor ChainID\", \"Acceptor Protein ResID\",\"Acceptor Joint Position\",\"Substrate Joint Position\"])[\"Fraction Frames\"].mean().unstack()"
   ]
  },
  {
   "cell_type": "code",
   "execution_count": null,
   "metadata": {},
   "outputs": [],
   "source": [
    "#Reset index to remove multi-indexing\n",
    "group_sub_contact.reset_index(inplace = True)"
   ]
  },
  {
   "cell_type": "code",
   "execution_count": null,
   "metadata": {},
   "outputs": [],
   "source": [
    "#sort values by protein position\n",
    "group_sub_contact.sort_values(\"Acceptor Protein ResID\", axis = 0, ascending = True, inplace = True) "
   ]
  },
  {
   "cell_type": "code",
   "execution_count": null,
   "metadata": {},
   "outputs": [],
   "source": [
    "# Apply melt for later plotting\n",
    "c_melt = group_sub_contact.melt(id_vars = [\"ID\",\"Temperature (K)\",\"Acceptor Protein ResID\", \"Acceptor Joint Position\", \"Acceptor ChainID\"], value_vars = [\"D1\",\"V2\",\"K3\",\"E4\",\"E5\",\"R6\",\"T7\",\n",
    "                                                                                                   \"A8\",\"L11\",\"L12\",\"Q13\",\n",
    "                                                                                                   \"L14\",\"S15\",\"G16\",\"N17\",\"A18\",\"S19\",\"D20\", \"F21\",\n",
    "                                                                                                   \"S22\",\"Y23\"],\n",
    "                                                                                                   value_name=\"Fraction_Frames\")"
   ]
  },
  {
   "cell_type": "code",
   "execution_count": null,
   "metadata": {},
   "outputs": [],
   "source": [
    "#add temp + chainID column\n",
    "c_melt[\"Temperature_AcceptorChainID\"] = c_melt[\"Temperature (K)\"].astype(str) + \"_\" + c_melt[\"Acceptor ChainID\"].astype(str)"
   ]
  },
  {
   "cell_type": "markdown",
   "metadata": {},
   "source": [
    "##### Label amino acid type by colour - for later plotting"
   ]
  },
  {
   "cell_type": "markdown",
   "metadata": {},
   "source": [
    "red - negatively charged\\\n",
    "blue - positively charged\\\n",
    "green - hydrophobic\\\n",
    "pink - polar\\\n",
    "yellow - special case (cysteine, glycine, proline)"
   ]
  },
  {
   "cell_type": "code",
   "execution_count": null,
   "metadata": {},
   "outputs": [],
   "source": [
    "amino_colours = {\"D1\":\"red\",\"V2\":\"green\",\"K3\":\"blue\",\"E4\":\"red\",\"E5\":\"red\",\"R6\":\"blue\",\"T7\":\"pink\",\"A8\":\"green\",\\\n",
    "                \"A9\":\"green\",\"S10\": \"pink\",\"L11\": \"green\",\"L12\":\"green\",\"Q13\": \"pink\",\"L14\":\"green\",\"S15\":\"pink\",\\\n",
    "                 \"G16\":\"yellow\",\"N17\":\"pink\", \"A18\":\"green\",\"S19\":\"pink\",\"D20\":\"red\",\"F21\":\"green\",\"S22\":\"pink\",\\\n",
    "                 \"Y23\":\"green\"}\n",
    "def apply_amino_colour(string):\n",
    "    return str(amino_colours[string])"
   ]
  },
  {
   "cell_type": "code",
   "execution_count": null,
   "metadata": {},
   "outputs": [],
   "source": [
    "amino_type = {\"D1\":\"negative charge\",\"V2\":\"hydrophobic\",\"K3\":\"positive charge\",\"E4\":\"negative charge\",\\\n",
    "              \"E5\":\"negative charge\",\"R6\":\"positive charge\",\"T7\":\"polar\",\"A8\":\"hydrophobic\",\"A9\":\"hydrophobic\",\\\n",
    "              \"S10\": \"polar\",\"L11\": \"hydrophobic\",\"L12\":\"hydrophobic\",\"Q13\": \"polar\",\"L14\":\"hydrophobic\",\\\n",
    "              \"S15\":\"polar\",\"G16\":\"polar\",\"N17\":\"polar\", \"A18\":\"hydrophobic\",\"S19\":\"polar\",\"D20\":\"negative charge\",\\\n",
    "              \"F21\":\"hydrophobic\",\"S22\":\"polar\",\"Y23\":\"hydrophobic\"}\n",
    "def apply_amino_type(string):\n",
    "    return str(amino_type[string])"
   ]
  },
  {
   "cell_type": "code",
   "execution_count": null,
   "metadata": {},
   "outputs": [],
   "source": [
    "c_melt[\"Substrate Color Column\"] = c_melt[\"Substrate Joint Position\"].apply(apply_amino_colour)"
   ]
  },
  {
   "cell_type": "code",
   "execution_count": null,
   "metadata": {},
   "outputs": [],
   "source": [
    "c_melt[\"Substrate Type Column\"] = c_melt[\"Substrate Joint Position\"].apply(apply_amino_type)"
   ]
  },
  {
   "cell_type": "code",
   "execution_count": null,
   "metadata": {},
   "outputs": [],
   "source": [
    "c_melt_nonan = c_melt.dropna(inplace = False) #remove nan values for comparing to lipid interactions/bokeh"
   ]
  },
  {
   "cell_type": "code",
   "execution_count": null,
   "metadata": {},
   "outputs": [],
   "source": [
    "# remove small values for plotting\n",
    "c_melt_remove = c_melt[c_melt[\"Fraction_Frames\"] > 0.05]\n",
    "c_melt_nonan_remove = c_melt_nonan[c_melt_nonan[\"Fraction_Frames\"] > 0.05]"
   ]
  },
  {
   "cell_type": "code",
   "execution_count": null,
   "metadata": {},
   "outputs": [],
   "source": [
    "#sort values by protein position\n",
    "c_melt_remove.sort_values(\"Acceptor Protein ResID\", axis = 0, ascending = True, inplace = True)"
   ]
  },
  {
   "cell_type": "markdown",
   "metadata": {},
   "source": [
    "### Plotting"
   ]
  },
  {
   "cell_type": "code",
   "execution_count": null,
   "metadata": {},
   "outputs": [],
   "source": [
    "palette_dic_chain = {\"303.15_A\":blue, \"310.15_A\":orange,\"303.15_B\":green,\"310.15_B\":red}"
   ]
  },
  {
   "cell_type": "code",
   "execution_count": null,
   "metadata": {},
   "outputs": [],
   "source": [
    "chain_C_fig = sns.catplot(x=\"Acceptor Joint Position\", y=\"Fraction_Frames\", \n",
    "                          hue='Temperature_AcceptorChainID', data=c_melt_remove, \n",
    "                          palette=palette_dic_chain,\n",
    "                          hue_order=[\"303.15_A\",\"310.15_A\",\"303.15_B\",\"310.15_B\"],\n",
    "                          height = 5, aspect = 3).fig;  \n",
    "plt.xlabel('ResID')\n",
    "plt.ylabel('Fraction Frames')\n",
    "chain_C_fig.savefig(\"Substrate Interactions by Temp and Chain correct.png\", dpi = 300)"
   ]
  },
  {
   "cell_type": "code",
   "execution_count": null,
   "metadata": {},
   "outputs": [],
   "source": [
    "palette_dic = {\"negative charge\":blue, \"positive charge\":orange,\"polar\":green,\"hydrophobic\":red}"
   ]
  },
  {
   "cell_type": "code",
   "execution_count": null,
   "metadata": {},
   "outputs": [],
   "source": [
    "chain_C_fig_type = sns.catplot(x=\"Acceptor Joint Position\", y=\"Fraction_Frames\", \n",
    "                               hue='Substrate Type Column', data=c_melt_remove,\n",
    "                               palette=palette_dic,\n",
    "                               hue_order=[\"hydrophobic\",\"polar\",\"negative charge\",\"positive charge\"],\n",
    "                               height = 5, aspect = 3).fig; \n",
    "plt.xlabel('ResID')\n",
    "plt.ylabel('Fraction Frames')\n",
    "chain_C_fig_type.savefig(\"Substrate Interactions by amino acid type correct.png\", dpi = 300)"
   ]
  },
  {
   "cell_type": "markdown",
   "metadata": {},
   "source": [
    "### Bokeh Plot"
   ]
  },
  {
   "cell_type": "code",
   "execution_count": null,
   "metadata": {},
   "outputs": [],
   "source": [
    "from bokeh.plotting import Figure, output_notebook, show, save\n",
    "from bokeh.models import ColumnDataSource, HoverTool, GroupFilter, CDSView\n",
    "from bokeh.models import BoxSelectTool\n",
    "\n",
    "output_notebook()"
   ]
  },
  {
   "cell_type": "code",
   "execution_count": null,
   "metadata": {},
   "outputs": [],
   "source": [
    "c_data = ColumnDataSource(c_melt_nonan_remove)\n",
    "\n",
    "c_int = Figure(tools='pan,wheel_zoom,box_zoom,reset', tooltips=[('Temperature (K)', '@{Temperature (K)}'), ('Chain', '@{Acceptor ChainID}'),('Sub', '@{Substrate Joint Position}'), ('Acceptor', '@{Acceptor Joint Position}')], width=2000, height=300, x_axis_label = \"Acceptor Position\", y_axis_label = \"Fraction Frames\")\n",
    "c_int.scatter(source=c_data, x='Acceptor Protein ResID', y='Fraction_Frames', \\\n",
    "                  fill_color='Substrate Color Column', size=5)\n",
    "c_int.add_tools(BoxSelectTool(dimensions=\"width\"))\n",
    "\n",
    "show(c_int);"
   ]
  },
  {
   "cell_type": "markdown",
   "metadata": {},
   "source": [
    "##### Save Bokeh Plot"
   ]
  },
  {
   "cell_type": "code",
   "execution_count": null,
   "metadata": {},
   "outputs": [],
   "source": [
    "save(c_int, filename='data/Substrate Interactions Bokeh', resources='inline', title='Substrate Interactions');"
   ]
  },
  {
   "cell_type": "markdown",
   "metadata": {},
   "source": [
    "### Timeseries of Specific Protein-Substrate Contacts - Thesis"
   ]
  },
  {
   "cell_type": "code",
   "execution_count": null,
   "metadata": {},
   "outputs": [],
   "source": [
    "# read in data - K6 Chain A with D20 Sub\n",
    "u1_C_term_sub = pd.read_csv(\"u1 Chain A K6 with Sub D20 Contacts 6 angstrom.csv\")\n",
    "u2_C_term_sub = pd.read_csv(\"u2 Chain A K6 with Sub D20 Contacts 6 angstrom.csv\")\n",
    "u3_C_term_sub = pd.read_csv(\"u3 Chain A K6 with Sub D20 Contacts 6 angstrom.csv\")\n",
    "u4_C_term_sub = pd.read_csv(\"u4 Chain A K6 with Sub D20 Contacts 6 angstrom.csv\")"
   ]
  },
  {
   "cell_type": "code",
   "execution_count": null,
   "metadata": {},
   "outputs": [],
   "source": [
    "# read in data - E79 Chain A with R6 Sub\n",
    "u1_middle_pin_sub = pd.read_csv(\"u1 Chain A E79 with Sub R6 Contacts 6 angstrom.csv\")\n",
    "u2_middle_pin_sub = pd.read_csv(\"u2 Chain A E79 with Sub R6 Contacts 6 angstrom.csv\")\n",
    "u3_middle_pin_sub = pd.read_csv(\"u3 Chain A E79 with Sub R6 Contacts 6 angstrom.csv\")\n",
    "u4_middle_pin_sub = pd.read_csv(\"u4 Chain A E79 with Sub R6 Contacts 6 angstrom.csv\")"
   ]
  },
  {
   "cell_type": "code",
   "execution_count": null,
   "metadata": {},
   "outputs": [],
   "source": [
    "# read in data -  S324 S331 Chain A with Q13 S15 N17 S19 Sub\n",
    "u1_polar_sub = pd.read_csv(\"u1 Chain A S324 S331 with Sub Q13 S15 N17 S19 Contacts 6 angstrom.csv\")\n",
    "u2_polar_sub = pd.read_csv(\"u2 Chain A S324 S331 with Sub Q13 S15 N17 S19 Contacts 6 angstrom.csv\")\n",
    "u3_polar_sub = pd.read_csv(\"u3 Chain A S324 S331 with Sub Q13 S15 N17 S19 Contacts 6 angstrom.csv\")\n",
    "u4_polar_sub = pd.read_csv(\"u4 Chain A S324 S331 with Sub Q13 S15 N17 S19 Contacts 6 angstrom.csv\")"
   ]
  },
  {
   "cell_type": "code",
   "execution_count": null,
   "metadata": {},
   "outputs": [],
   "source": [
    "# read in data - K51 K58 K61 K62 Chain A with D1 E4 E5 Sub\n",
    "u1_tail_pin_sub = pd.read_csv(\"u1 Chain A K51 K58 K61 K62 with Sub D1 E4 E5 Contacts 6 angstrom.csv\")\n",
    "u2_tail_pin_sub = pd.read_csv(\"u2 Chain A K51 K58 K61 K62 with Sub D1 E4 E5 Contacts 6 angstrom.csv\")\n",
    "u3_tail_pin_sub = pd.read_csv(\"u3 Chain A K51 K58 K61 K62 with Sub D1 E4 E5 Contacts 6 angstrom.csv\")\n",
    "u4_tail_pin_sub = pd.read_csv(\"u4 Chain A K51 K58 K61 K62 with Sub D1 E4 E5 Contacts 6 angstrom.csv\")"
   ]
  },
  {
   "cell_type": "code",
   "execution_count": null,
   "metadata": {},
   "outputs": [],
   "source": [
    "# read in data - N556 T597 Chain B with Q13 S15 N17 S19 Sub\n",
    "u1_nbd_sub = pd.read_csv(\"u1 Chain B N556 T597 with Sub Q13 S15 N17 S19 Contacts 6 angstrom.csv\")\n",
    "u2_nbd_sub = pd.read_csv(\"u2 Chain B N556 T597 with Sub Q13 S15 N17 S19 Contacts 6 angstrom.csv\")\n",
    "u3_nbd_sub = pd.read_csv(\"u3 Chain B N556 T597 with Sub Q13 S15 N17 S19 Contacts 6 angstrom.csv\")\n",
    "u4_nbd_sub = pd.read_csv(\"u4 Chain B N556 T597 with Sub Q13 S15 N17 S19 Contacts 6 angstrom.csv\")"
   ]
  },
  {
   "cell_type": "code",
   "execution_count": null,
   "metadata": {},
   "outputs": [],
   "source": [
    "# concatonate by temp - K6 Chain A with D20 Sub\n",
    "C_term_sub_30_deg = pd.concat([u1_C_term_sub,\n",
    "                               u2_C_term_sub]).groupby('Time (ns)').agg(avg=('# Contacts','mean'))\n",
    "C_term_sub_37_deg = pd.concat([u3_C_term_sub,\n",
    "                               u4_C_term_sub]).groupby('Time (ns)').agg(avg=('# Contacts','mean'))"
   ]
  },
  {
   "cell_type": "code",
   "execution_count": null,
   "metadata": {},
   "outputs": [],
   "source": [
    "# concatonate by temp - E79 Chain A with R6 Sub\n",
    "middle_pin_sub_30_deg = pd.concat([u1_middle_pin_sub,\n",
    "                               u2_middle_pin_sub]).groupby('Time (ns)').agg(avg=('# Contacts','mean'))\n",
    "middle_pin_sub_37_deg = pd.concat([u3_middle_pin_sub,\n",
    "                               u4_middle_pin_sub]).groupby('Time (ns)').agg(avg=('# Contacts','mean'))"
   ]
  },
  {
   "cell_type": "code",
   "execution_count": null,
   "metadata": {},
   "outputs": [],
   "source": [
    "# concatonate by temp - K51 K58 K61 K62 Chain A with D1 E4 E5 Sub\n",
    "tail_pin_sub_30_deg = pd.concat([u1_tail_pin_sub,\n",
    "                               u2_tail_pin_sub]).groupby('Time (ns)').agg(avg=('# Contacts','mean'))\n",
    "tail_pin_sub_37_deg = pd.concat([u3_tail_pin_sub,\n",
    "                               u4_tail_pin_sub]).groupby('Time (ns)').agg(avg=('# Contacts','mean'))"
   ]
  },
  {
   "cell_type": "code",
   "execution_count": null,
   "metadata": {},
   "outputs": [],
   "source": [
    "# concatonate by temp - S324 S331 Chain A with Q13 S15 N17 S19 Sub\n",
    "polar_sub_30_deg = pd.concat([u1_polar_sub,\n",
    "                               u2_polar_sub]).groupby('Time (ns)').agg(avg=('# Contacts','mean'))\n",
    "polar_sub_37_deg = pd.concat([u3_polar_sub,\n",
    "                               u4_polar_sub]).groupby('Time (ns)').agg(avg=('# Contacts','mean'))"
   ]
  },
  {
   "cell_type": "code",
   "execution_count": null,
   "metadata": {},
   "outputs": [],
   "source": [
    "# concatonate by temp - N556 T597 Chain B with Q13 S15 N17 S19 Sub\n",
    "nbd_sub_30_deg = pd.concat([u1_nbd_sub,\n",
    "                               u2_nbd_sub]).groupby('Time (ns)').agg(avg=('# Contacts','mean'))\n",
    "nbd_sub_37_deg = pd.concat([u3_nbd_sub,\n",
    "                               u4_nbd_sub]).groupby('Time (ns)').agg(avg=('# Contacts','mean'))"
   ]
  },
  {
   "cell_type": "code",
   "execution_count": null,
   "metadata": {},
   "outputs": [],
   "source": [
    "# Reset index - K6 Chain A with D20 Sub\n",
    "C_term_sub_30_deg.reset_index(inplace = True)\n",
    "C_term_sub_37_deg.reset_index(inplace = True)"
   ]
  },
  {
   "cell_type": "code",
   "execution_count": null,
   "metadata": {},
   "outputs": [],
   "source": [
    "# Reset index - E79 Chain A with R6 Sub\n",
    "middle_pin_sub_30_deg.reset_index(inplace = True)\n",
    "middle_pin_sub_37_deg.reset_index(inplace = True)"
   ]
  },
  {
   "cell_type": "code",
   "execution_count": null,
   "metadata": {},
   "outputs": [],
   "source": [
    "# Reset index - K51 K58 K61 K62 Chain A with D1 E4 E5 Sub\n",
    "tail_pin_sub_30_deg.reset_index(inplace = True)\n",
    "tail_pin_sub_37_deg.reset_index(inplace = True)"
   ]
  },
  {
   "cell_type": "code",
   "execution_count": null,
   "metadata": {},
   "outputs": [],
   "source": [
    "# Reset index - S324 S331 Chain A with Q13 S15 N17 S19 Sub\n",
    "polar_sub_30_deg.reset_index(inplace = True)\n",
    "polar_sub_37_deg.reset_index(inplace = True)"
   ]
  },
  {
   "cell_type": "code",
   "execution_count": null,
   "metadata": {},
   "outputs": [],
   "source": [
    "# Reset index - N556 T597 Chain B with Q13 S15 N17 S19 Sub\n",
    "nbd_sub_30_deg.reset_index(inplace = True)\n",
    "nbd_sub_37_deg.reset_index(inplace = True)"
   ]
  },
  {
   "cell_type": "code",
   "execution_count": null,
   "metadata": {},
   "outputs": [],
   "source": [
    "# Add in rolling averages - K6 Chain A with D20 Sub\n",
    "C_term_sub_30_deg_rolling = C_term_sub_30_deg['avg'].rolling(window=1000,center=True).mean()\n",
    "C_term_sub_37_deg_rolling = C_term_sub_37_deg['avg'].rolling(window=1000,center=True).mean()"
   ]
  },
  {
   "cell_type": "code",
   "execution_count": null,
   "metadata": {},
   "outputs": [],
   "source": [
    "# Add in rolling averages - E79 Chain A with R6 Sub\n",
    "middle_pin_sub_30_deg_rolling = middle_pin_sub_30_deg['avg'].rolling(window=1000,center=True).mean()\n",
    "middle_pin_sub_37_deg_rolling = middle_pin_sub_37_deg['avg'].rolling(window=1000,center=True).mean()"
   ]
  },
  {
   "cell_type": "code",
   "execution_count": null,
   "metadata": {},
   "outputs": [],
   "source": [
    "# Add in rolling averages - K51 K58 K61 K62 Chain A with D1 E4 E5 Sub\n",
    "tail_pin_sub_30_deg_rolling = tail_pin_sub_30_deg['avg'].rolling(window=1000,center=True).mean()\n",
    "tail_pin_sub_37_deg_rolling = tail_pin_sub_37_deg['avg'].rolling(window=1000,center=True).mean()"
   ]
  },
  {
   "cell_type": "code",
   "execution_count": null,
   "metadata": {},
   "outputs": [],
   "source": [
    "# Add in rolling averages - S324 S331 Chain A with Q13 S15 N17 S19 Sub\n",
    "polar_sub_30_deg_rolling = polar_sub_30_deg['avg'].rolling(window=1000,center=True).mean()\n",
    "polar_sub_37_deg_rolling = polar_sub_37_deg['avg'].rolling(window=1000,center=True).mean()"
   ]
  },
  {
   "cell_type": "code",
   "execution_count": null,
   "metadata": {},
   "outputs": [],
   "source": [
    "# Add in rolling averages - N556 T597 Chain B with Q13 S15 N17 S19 Sub\n",
    "nbd_sub_30_deg_rolling = nbd_sub_30_deg['avg'].rolling(window=1000,center=True).mean()\n",
    "nbd_sub_37_deg_rolling = nbd_sub_37_deg['avg'].rolling(window=1000,center=True).mean()"
   ]
  },
  {
   "cell_type": "code",
   "execution_count": null,
   "metadata": {},
   "outputs": [],
   "source": [
    "# Plot with rolling averages - K6 Chain A with D20 Sub\n",
    "#plt.errorbar(x=C_term_sub_30_deg[\"Time (ns)\"],y=C_term_sub_30_deg[\"avg\"],label=\"310 K\")\n",
    "plt.errorbar(x=C_term_sub_30_deg[\"Time (ns)\"],y=C_term_sub_30_deg_rolling,label=\"303 K\")\n",
    "#plt.errorbar(x=C_term_sub_37_deg[\"Time (ns)\"],y=C_term_sub_37_deg[\"avg\"],label=\"310 K\")\n",
    "plt.errorbar(x=C_term_sub_37_deg[\"Time (ns)\"],y=C_term_sub_37_deg_rolling,label=\"310 K\")\n",
    "plt.legend(loc='upper right')\n",
    "plt.title(\"Contacts Chain A K6 with Sub D20\")\n",
    "plt.xlabel(\"Time (ns)\")\n",
    "plt.ylabel(\"Average # Contacts\")\n",
    "plt.savefig(\"Average Contacts Chain A K6 with Sub D20 30 Deg\", dpi=300)"
   ]
  },
  {
   "cell_type": "code",
   "execution_count": null,
   "metadata": {},
   "outputs": [],
   "source": [
    "# Plot with rolling averages - E79 Chain A with R6 Sub\n",
    "#plt.errorbar(x=middle_pin_sub_30_deg[\"Time (ns)\"],y=middle_pin_sub_30_deg[\"avg\"],label=\"310 K\")\n",
    "plt.errorbar(x=middle_pin_sub_30_deg[\"Time (ns)\"],y=middle_pin_sub_30_deg_rolling,label=\"303 K\")\n",
    "#plt.errorbar(x=middle_pin_sub_37_deg[\"Time (ns)\"],y=middle_pin_sub_37_deg[\"avg\"],label=\"310 K\")\n",
    "plt.errorbar(x=middle_pin_sub_37_deg[\"Time (ns)\"],y=middle_pin_sub_37_deg_rolling,label=\"310 K\")\n",
    "plt.legend(loc='upper right')\n",
    "plt.title(\"Contacts Chain A E79 with Sub R6\")\n",
    "plt.xlabel(\"Time (ns)\")\n",
    "plt.ylabel(\"Average # Contacts\")\n",
    "#plt.savefig(\"Average Contacts Chain A E79 with Sub R6\", dpi=300)"
   ]
  },
  {
   "cell_type": "code",
   "execution_count": null,
   "metadata": {},
   "outputs": [],
   "source": [
    "# Plot with rolling averages - K51 K58 K61 K62 Chain A with D1 E4 E5 Sub\n",
    "#plt.errorbar(x=tail_pin_sub_30_deg[\"Time (ns)\"],y=tail_pin_sub_30_deg[\"avg\"],label=\"310 K\")\n",
    "plt.errorbar(x=tail_pin_sub_30_deg[\"Time (ns)\"],y=tail_pin_sub_30_deg_rolling,label=\"303 K\")\n",
    "#plt.errorbar(x=tail_pin_sub_37_deg[\"Time (ns)\"],y=tail_pin_sub_37_deg[\"avg\"],label=\"310 K\")\n",
    "plt.errorbar(x=tail_pin_sub_37_deg[\"Time (ns)\"],y=tail_pin_sub_37_deg_rolling,label=\"310 K\")\n",
    "plt.legend(loc='upper right')\n",
    "plt.title(\"Contacts Chain A K51 K58 K61 K62 with Sub D1 E4 E5\")\n",
    "plt.xlabel(\"Time (ns)\")\n",
    "plt.ylabel(\"Average # Contacts\")\n",
    "plt.savefig(\"Average Contacts Chain A K51 K58 K61 K62 with Sub D1 E4 E5\", dpi=300)"
   ]
  },
  {
   "cell_type": "code",
   "execution_count": null,
   "metadata": {},
   "outputs": [],
   "source": [
    "# Plot with rolling averages - S324 S331 Chain A with Q13 S15 N17 S19 Sub\n",
    "#plt.errorbar(x=polar_sub_30_deg[\"Time (ns)\"],y=polar_sub_30_deg[\"avg\"],label=\"310 K\")\n",
    "plt.errorbar(x=polar_sub_30_deg[\"Time (ns)\"],y=polar_sub_30_deg_rolling,label=\"303 K\")\n",
    "#plt.errorbar(x=polar_sub_37_deg[\"Time (ns)\"],y=polar_sub_37_deg[\"avg\"],label=\"310 K\")\n",
    "plt.errorbar(x=polar_sub_37_deg[\"Time (ns)\"],y=polar_sub_37_deg_rolling,label=\"310 K\")\n",
    "plt.legend(loc='upper right')\n",
    "plt.title(\"Contacts Chain A S324 S331 with Sub Q13 S15 N17 S19\")\n",
    "plt.xlabel(\"Time (ns)\")\n",
    "plt.ylabel(\"Average # Contacts\")\n",
    "plt.savefig(\"Average Contacts Chain A S324 S331 with Sub Q13 S15 N17 S19\", dpi=300)"
   ]
  },
  {
   "cell_type": "code",
   "execution_count": null,
   "metadata": {},
   "outputs": [],
   "source": [
    "# Plot with rolling averages - N556 T597 Chain B with Q13 S15 N17 S19 Sub\n",
    "#plt.errorbar(x=nbd_sub_30_deg[\"Time (ns)\"],y=nbd_sub_30_deg[\"avg\"],label=\"310 K\")\n",
    "plt.errorbar(x=nbd_sub_30_deg[\"Time (ns)\"],y=nbd_sub_30_deg_rolling,label=\"303 K\")\n",
    "#plt.errorbar(x=nbd_sub_37_deg[\"Time (ns)\"],y=nbd_sub_37_deg[\"avg\"],label=\"310 K\")\n",
    "plt.errorbar(x=nbd_sub_37_deg[\"Time (ns)\"],y=nbd_sub_37_deg_rolling,label=\"310 K\")\n",
    "plt.legend(loc='upper right')\n",
    "plt.title(\"Contacts Chain B N556 T597 with Sub Q13 S15 N17 S19\")\n",
    "plt.xlabel(\"Time (ns)\")\n",
    "plt.ylabel(\"Average # Contacts\")\n",
    "plt.savefig(\"Average Contacts Chain B N556 T597 with Sub Q13 S15 N17 S19\", dpi=300)"
   ]
  },
  {
   "cell_type": "markdown",
   "metadata": {},
   "source": [
    "### Membrane Enrichment"
   ]
  },
  {
   "cell_type": "markdown",
   "metadata": {},
   "source": [
    "Look at using radial distribution curve for each lipid - CDL2, POPE, and POPG and see if it tells us about how these lipids interact in general with target amino acids. Function looks at density of lipids around a target reference."
   ]
  },
  {
   "cell_type": "code",
   "execution_count": null,
   "metadata": {},
   "outputs": [],
   "source": [
    "# Reimport all contacts for plotting - with substrate\n",
    "cdl2_sub_30_deg_traj_1 = pd.read_csv(\"data/CDL2_Band_Enrichment_Sub_30_Deg_Traj_1.csv\")\n",
    "cdl2_sub_37_deg_traj_1 = pd.read_csv(\"data/CDL2_Band_Enrichment_Sub_37_Deg_Traj_1.csv\")\n",
    "cdl2_sub_30_deg_traj_2 = pd.read_csv(\"data/CDL2_Band_Enrichment_Sub_30_Deg_Traj_2.csv\")\n",
    "cdl2_sub_37_deg_traj_2 = pd.read_csv(\"data/CDL2_Band_Enrichment_Sub_37_Deg_Traj_2.csv\")\n",
    "pope_sub_30_deg_traj_1 = pd.read_csv(\"data/POPE_Band_Enrichment_Sub_30_Deg_Traj_1.csv\")\n",
    "pope_sub_37_deg_traj_1 = pd.read_csv(\"data/POPE_Band_Enrichment_Sub_37_Deg_Traj_1.csv\")\n",
    "pope_sub_30_deg_traj_2 = pd.read_csv(\"data/POPE_Band_Enrichment_Sub_30_Deg_Traj_2.csv\")\n",
    "pope_sub_37_deg_traj_2 = pd.read_csv(\"data/POPE_Band_Enrichment_Sub_37_Deg_Traj_2.csv\")\n",
    "popg_sub_30_deg_traj_1 = pd.read_csv(\"data/POPG_Band_Enrichment_Sub_30_Deg_Traj_1.csv\")\n",
    "popg_sub_37_deg_traj_1 = pd.read_csv(\"data/POPG_Band_Enrichment_Sub_37_Deg_Traj_1.csv\")\n",
    "popg_sub_30_deg_traj_2 = pd.read_csv(\"data/POPG_Band_Enrichment_Sub_30_Deg_Traj_2.csv\")\n",
    "popg_sub_37_deg_traj_2 = pd.read_csv(\"data/POPG_Band_Enrichment_Sub_37_Deg_Traj_2.csv\")"
   ]
  },
  {
   "cell_type": "code",
   "execution_count": null,
   "metadata": {},
   "outputs": [],
   "source": [
    "# Reimport all contacts for plotting - without substrate\n",
    "cdl2_nosub_30_deg_traj_1 = pd.read_csv(\"data/CDL2_Band_Enrichment_Nosub_30_Deg_Traj_1.csv\")\n",
    "cdl2_nosub_37_deg_traj_1 = pd.read_csv(\"data/CDL2_Band_Enrichment_Nosub_37_Deg_Traj_1.csv\")\n",
    "cdl2_nosub_30_deg_traj_2 = pd.read_csv(\"data/CDL2_Band_Enrichment_Nosub_30_Deg_Traj_2.csv\")\n",
    "cdl2_nosub_37_deg_traj_2 = pd.read_csv(\"data/CDL2_Band_Enrichment_Nosub_37_Deg_Traj_2.csv\")\n",
    "pope_nosub_30_deg_traj_1 = pd.read_csv(\"data/POPE_Band_Enrichment_Nosub_30_Deg_Traj_1.csv\")\n",
    "pope_nosub_37_deg_traj_1 = pd.read_csv(\"data/POPE_Band_Enrichment_Nosub_37_Deg_Traj_1.csv\")\n",
    "pope_nosub_30_deg_traj_2 = pd.read_csv(\"data/POPE_Band_Enrichment_Nosub_30_Deg_Traj_2.csv\")\n",
    "pope_nosub_37_deg_traj_2 = pd.read_csv(\"data/POPE_Band_Enrichment_Nosub_37_Deg_Traj_2.csv\")\n",
    "popg_nosub_30_deg_traj_1 = pd.read_csv(\"data/POPG_Band_Enrichment_Nosub_30_Deg_Traj_1.csv\")\n",
    "popg_nosub_37_deg_traj_1 = pd.read_csv(\"data/POPG_Band_Enrichment_Nosub_37_Deg_Traj_1.csv\")\n",
    "popg_nosub_30_deg_traj_2 = pd.read_csv(\"data/POPG_Band_Enrichment_Nosub_30_Deg_Traj_2.csv\")\n",
    "popg_nosub_37_deg_traj_2 = pd.read_csv(\"data/POPG_Band_Enrichment_Nosub_37_Deg_Traj_2.csv\")"
   ]
  },
  {
   "cell_type": "code",
   "execution_count": null,
   "metadata": {},
   "outputs": [],
   "source": [
    "# Concat trajectory repeats - substrate\n",
    "cdl2_sub_30_deg = pd.concat([cdl2_sub_30_deg_traj_1,cdl2_sub_30_deg_traj_2]).groupby('Band Distance').agg(avg=('Enrichment_Score','mean'), std=('Enrichment_Score','std'))\n",
    "cdl2_sub_37_deg = pd.concat([cdl2_sub_37_deg_traj_1,cdl2_sub_37_deg_traj_2]).groupby('Band Distance').agg(avg=('Enrichment_Score','mean'), std=('Enrichment_Score','std'))\n",
    "pope_sub_30_deg = pd.concat([pope_sub_30_deg_traj_1,pope_sub_30_deg_traj_2]).groupby('Band Distance').agg(avg=('Enrichment_Score','mean'), std=('Enrichment_Score','std'))\n",
    "pope_sub_37_deg = pd.concat([pope_sub_37_deg_traj_1,pope_sub_37_deg_traj_2]).groupby('Band Distance').agg(avg=('Enrichment_Score','mean'), std=('Enrichment_Score','std'))\n",
    "popg_sub_30_deg = pd.concat([popg_sub_30_deg_traj_1,popg_sub_30_deg_traj_2]).groupby('Band Distance').agg(avg=('Enrichment_Score','mean'), std=('Enrichment_Score','std'))\n",
    "popg_sub_37_deg = pd.concat([popg_sub_37_deg_traj_1,popg_sub_37_deg_traj_2]).groupby('Band Distance').agg(avg=('Enrichment_Score','mean'), std=('Enrichment_Score','std'))"
   ]
  },
  {
   "cell_type": "code",
   "execution_count": null,
   "metadata": {},
   "outputs": [],
   "source": [
    "# Concat trajectory repeats - no substrate\n",
    "cdl2_nosub_30_deg = pd.concat([cdl2_nosub_30_deg_traj_1,cdl2_nosub_30_deg_traj_2]).groupby('Band Distance').agg(avg=('Enrichment_Score','mean'), std=('Enrichment_Score','std'))\n",
    "cdl2_nosub_37_deg = pd.concat([cdl2_nosub_37_deg_traj_1,cdl2_nosub_37_deg_traj_2]).groupby('Band Distance').agg(avg=('Enrichment_Score','mean'), std=('Enrichment_Score','std'))\n",
    "pope_nosub_30_deg = pd.concat([pope_nosub_30_deg_traj_1,pope_nosub_30_deg_traj_2]).groupby('Band Distance').agg(avg=('Enrichment_Score','mean'), std=('Enrichment_Score','std'))\n",
    "pope_nosub_37_deg = pd.concat([pope_nosub_37_deg_traj_1,pope_nosub_37_deg_traj_2]).groupby('Band Distance').agg(avg=('Enrichment_Score','mean'), std=('Enrichment_Score','std'))\n",
    "popg_nosub_30_deg = pd.concat([popg_nosub_30_deg_traj_1,popg_nosub_30_deg_traj_2]).groupby('Band Distance').agg(avg=('Enrichment_Score','mean'), std=('Enrichment_Score','std'))\n",
    "popg_nosub_37_deg = pd.concat([popg_nosub_37_deg_traj_1,popg_nosub_37_deg_traj_2]).groupby('Band Distance').agg(avg=('Enrichment_Score','mean'), std=('Enrichment_Score','std'))"
   ]
  },
  {
   "cell_type": "code",
   "execution_count": null,
   "metadata": {},
   "outputs": [],
   "source": [
    "#Reset index to remove multi-indexing - substrate\n",
    "cdl2_sub_30_deg.reset_index(inplace = True)\n",
    "cdl2_sub_37_deg.reset_index(inplace = True)\n",
    "pope_sub_30_deg.reset_index(inplace = True) \n",
    "pope_sub_37_deg.reset_index(inplace = True) \n",
    "popg_sub_30_deg.reset_index(inplace = True) \n",
    "popg_sub_37_deg.reset_index(inplace = True) "
   ]
  },
  {
   "cell_type": "code",
   "execution_count": null,
   "metadata": {},
   "outputs": [],
   "source": [
    "#Reset index to remove multi-indexing - no substrate\n",
    "cdl2_nosub_30_deg.reset_index(inplace = True)\n",
    "cdl2_nosub_37_deg.reset_index(inplace = True)\n",
    "pope_nosub_30_deg.reset_index(inplace = True) \n",
    "pope_nosub_37_deg.reset_index(inplace = True) \n",
    "popg_nosub_30_deg.reset_index(inplace = True) \n",
    "popg_nosub_37_deg.reset_index(inplace = True)"
   ]
  },
  {
   "cell_type": "code",
   "execution_count": null,
   "metadata": {},
   "outputs": [],
   "source": [
    "# Plot by temp for substrate\n",
    "plt.errorbar(x=cdl2_sub_30_deg[\"Band Distance\"],y=cdl2_sub_30_deg[\"avg\"],yerr=cdl2_sub_30_deg[\"std\"],xerr=2.5,label=\"CDL2 303.15 K\")\n",
    "plt.errorbar(x=pope_sub_30_deg[\"Band Distance\"],y=pope_sub_30_deg[\"avg\"],yerr=pope_sub_30_deg[\"std\"],xerr=2.5,label=\"POPE 303.15 K\")\n",
    "plt.errorbar(x=popg_sub_30_deg[\"Band Distance\"],y=popg_sub_30_deg[\"avg\"],yerr=popg_sub_30_deg[\"std\"],xerr=2.5,label=\"POPG 303.15 K\")\n",
    "plt.errorbar(x=cdl2_sub_37_deg[\"Band Distance\"],y=cdl2_sub_37_deg[\"avg\"],yerr=cdl2_sub_37_deg[\"std\"],xerr=2.5,label=\"CDL2 310.15 K\")\n",
    "plt.errorbar(x=pope_sub_37_deg[\"Band Distance\"],y=pope_sub_37_deg[\"avg\"],yerr=pope_sub_37_deg[\"std\"],xerr=2.5,label=\"POPE 310.15 K\")\n",
    "plt.errorbar(x=popg_sub_37_deg[\"Band Distance\"],y=popg_sub_37_deg[\"avg\"],yerr=popg_sub_37_deg[\"std\"],xerr=2.5,label=\"POPG 310.15 K\")\n",
    "plt.legend(loc='best')\n",
    "plt.title(\"Lipid Enrichment with Substrate\")\n",
    "plt.xlabel(\"Radial Distance From Protein (Angstrom)\")\n",
    "plt.ylabel(\"Enrichment\")\n",
    "#plt.savefig(\"Lipid Enrichment by Temp with Substrate\", dpi=300)"
   ]
  },
  {
   "cell_type": "code",
   "execution_count": null,
   "metadata": {},
   "outputs": [],
   "source": [
    "# Plot by temp no substrate\n",
    "plt.errorbar(x=cdl2_nosub_30_deg[\"Band Distance\"],y=cdl2_nosub_30_deg[\"avg\"],yerr=cdl2_nosub_30_deg[\"std\"],xerr=2.5,label=\"CDL2 303.15 K\")\n",
    "plt.errorbar(x=pope_nosub_30_deg[\"Band Distance\"],y=pope_nosub_30_deg[\"avg\"],yerr=pope_nosub_30_deg[\"std\"],xerr=2.5,label=\"POPE 303.15 K\")\n",
    "plt.errorbar(x=popg_nosub_30_deg[\"Band Distance\"],y=popg_nosub_30_deg[\"avg\"],yerr=popg_nosub_30_deg[\"std\"],xerr=2.5,label=\"POPG 303.15 K\")\n",
    "plt.errorbar(x=cdl2_nosub_37_deg[\"Band Distance\"],y=cdl2_nosub_37_deg[\"avg\"],yerr=cdl2_nosub_37_deg[\"std\"],xerr=2.5,label=\"CDL2 310.15 K\")\n",
    "plt.errorbar(x=pope_nosub_37_deg[\"Band Distance\"],y=pope_nosub_37_deg[\"avg\"],yerr=pope_nosub_37_deg[\"std\"],xerr=2.5,label=\"POPE 310.15 K\")\n",
    "plt.errorbar(x=popg_nosub_37_deg[\"Band Distance\"],y=popg_nosub_37_deg[\"avg\"],yerr=popg_nosub_37_deg[\"std\"],xerr=2.5,label=\"POPG 310.15 K\")\n",
    "plt.legend(loc='best')\n",
    "plt.title(\"Lipid Enrichment without Substrate\")\n",
    "plt.xlabel(\"Radial Distance From Protein (Angstrom)\")\n",
    "plt.ylabel(\"Enrichment\")\n",
    "plt.savefig(\"Lipid Enrichment by Temp without Substrate\", dpi=300)"
   ]
  },
  {
   "cell_type": "code",
   "execution_count": null,
   "metadata": {},
   "outputs": [],
   "source": [
    "# Plot sub vs no sub 303.15 K\n",
    "plt.errorbar(x=cdl2_sub_30_deg[\"Band Distance\"],y=cdl2_sub_30_deg[\"avg\"],yerr=cdl2_sub_30_deg[\"std\"],xerr=2.5,label=\"CDL2 Substrate\")\n",
    "plt.errorbar(x=cdl2_nosub_30_deg[\"Band Distance\"],y=cdl2_nosub_30_deg[\"avg\"],yerr=cdl2_nosub_30_deg[\"std\"],xerr=2.5,label=\"CDL2 No Substrate\")\n",
    "plt.errorbar(x=pope_sub_30_deg[\"Band Distance\"],y=pope_sub_30_deg[\"avg\"],yerr=pope_sub_30_deg[\"std\"],xerr=2.5,label=\"POPE Substrate\")\n",
    "plt.errorbar(x=pope_nosub_30_deg[\"Band Distance\"],y=pope_nosub_30_deg[\"avg\"],yerr=pope_nosub_30_deg[\"std\"],xerr=2.5,label=\"POPE No Substrate\")\n",
    "plt.errorbar(x=popg_sub_30_deg[\"Band Distance\"],y=popg_sub_30_deg[\"avg\"],yerr=popg_sub_30_deg[\"std\"],xerr=2.5,label=\"POPG Substrate\")\n",
    "plt.errorbar(x=popg_nosub_30_deg[\"Band Distance\"],y=popg_nosub_30_deg[\"avg\"],yerr=popg_nosub_30_deg[\"std\"],xerr=2.5,label=\"POPG No Substrate\")\n",
    "plt.legend(loc='best')\n",
    "plt.title(\"Lipid Enrichment Substrate vs No Substrate at 303.15 K\")\n",
    "plt.xlabel(\"Radial Distance From Protein (Angstrom)\")\n",
    "plt.ylabel(\"Enrichment\")\n",
    "plt.savefig(\"Lipid Enrichment Substrate vs No Substrate 30 Deg\", dpi=300)"
   ]
  },
  {
   "cell_type": "code",
   "execution_count": null,
   "metadata": {},
   "outputs": [],
   "source": [
    "# Plot sub vs no sub 310.15 K\n",
    "plt.errorbar(x=cdl2_sub_37_deg[\"Band Distance\"],y=cdl2_sub_37_deg[\"avg\"],yerr=cdl2_sub_37_deg[\"std\"],xerr=2.5,label=\"CDL2 Substrate\")\n",
    "plt.errorbar(x=cdl2_nosub_37_deg[\"Band Distance\"],y=cdl2_nosub_37_deg[\"avg\"],yerr=cdl2_nosub_37_deg[\"std\"],xerr=2.5,label=\"CDL2 No Substrate\")\n",
    "plt.errorbar(x=pope_sub_37_deg[\"Band Distance\"],y=pope_sub_37_deg[\"avg\"],yerr=pope_sub_37_deg[\"std\"],xerr=2.5,label=\"POPE Substrate\")\n",
    "plt.errorbar(x=pope_nosub_37_deg[\"Band Distance\"],y=pope_nosub_37_deg[\"avg\"],yerr=pope_nosub_37_deg[\"std\"],xerr=2.5,label=\"POPE No Substrate\")\n",
    "plt.errorbar(x=popg_sub_37_deg[\"Band Distance\"],y=popg_sub_37_deg[\"avg\"],yerr=popg_sub_37_deg[\"std\"],xerr=2.5,label=\"POPG Substrate\")\n",
    "plt.errorbar(x=popg_nosub_37_deg[\"Band Distance\"],y=popg_nosub_37_deg[\"avg\"],yerr=popg_nosub_37_deg[\"std\"],xerr=2.5,label=\"POPG No Substrate\")\n",
    "plt.legend(loc=9)\n",
    "plt.title(\"Lipid Enrichment Substrate vs No Substrate at 310.15 K\")\n",
    "plt.xlabel(\"Radial Distance From Protein (Angstrom)\")\n",
    "plt.ylabel(\"Enrichment\")\n",
    "plt.savefig(\"Lipid Enrichment Substrate vs No Substrate 37 Deg\", dpi=300)"
   ]
  },
  {
   "cell_type": "markdown",
   "metadata": {},
   "source": [
    "### Lipid Clustering Analysis"
   ]
  },
  {
   "cell_type": "markdown",
   "metadata": {},
   "source": [
    "Investigate lipid clustering in different domains of HlyB from substrate vs no substrate trajectories"
   ]
  },
  {
   "cell_type": "code",
   "execution_count": null,
   "metadata": {},
   "outputs": [],
   "source": [
    "# Data import with substrate - by domain only\n",
    "lipid_clust_sub_30_deg_traj_1 = pd.read_csv(\"data/Lipid_Clustering_Counts_scaled_sub_30_deg_traj_1.csv\")\n",
    "lipid_clust_sub_30_deg_traj_2 = pd.read_csv(\"data/Lipid_Clustering_Counts_scaled_sub_30_deg_traj_2.csv\")\n",
    "lipid_clust_sub_37_deg_traj_1 = pd.read_csv(\"data/Lipid_Clustering_Counts_scaled_sub_37_deg_traj_1.csv\")\n",
    "lipid_clust_sub_37_deg_traj_2 = pd.read_csv(\"data/Lipid_Clustering_Counts_scaled_sub_37_deg_traj_2.csv\")"
   ]
  },
  {
   "cell_type": "code",
   "execution_count": null,
   "metadata": {},
   "outputs": [],
   "source": [
    "# Data import without substrate - by domain only\n",
    "lipid_clust_nosub_30_deg_traj_1 = pd.read_csv(\"data/Lipid_Clustering_Counts_scaled_nosub_30_deg_traj_1.csv\")\n",
    "lipid_clust_nosub_30_deg_traj_2 = pd.read_csv(\"data/Lipid_Clustering_Counts_scaled_nosub_30_deg_traj_2.csv\")\n",
    "lipid_clust_nosub_37_deg_traj_1 = pd.read_csv(\"data/Lipid_Clustering_Counts_scaled_nosub_37_deg_traj_1.csv\")\n",
    "lipid_clust_nosub_37_deg_traj_2 = pd.read_csv(\"data/Lipid_Clustering_Counts_scaled_nosub_37_deg_traj_2.csv\")"
   ]
  },
  {
   "cell_type": "code",
   "execution_count": null,
   "metadata": {},
   "outputs": [],
   "source": [
    "# Data import with substrate - by chain and domain\n",
    "lipid_clust_sub_30_deg_traj_1_bychain = pd.read_csv(\"data/Lipid_Clustering_Counts_by_Chain_scaled_sub_30_deg_traj_1.csv\")\n",
    "lipid_clust_sub_30_deg_traj_2_bychain = pd.read_csv(\"data/Lipid_Clustering_Counts_by_Chain_scaled_sub_30_deg_traj_2.csv\")\n",
    "lipid_clust_sub_37_deg_traj_1_bychain = pd.read_csv(\"data/Lipid_Clustering_Counts_by_Chain_scaled_sub_37_deg_traj_1.csv\")\n",
    "lipid_clust_sub_37_deg_traj_2_bychain = pd.read_csv(\"data/Lipid_Clustering_Counts_by_Chain_scaled_sub_37_deg_traj_2.csv\")"
   ]
  },
  {
   "cell_type": "code",
   "execution_count": null,
   "metadata": {},
   "outputs": [],
   "source": [
    "# Data import without substrate - by chain and domain\n",
    "lipid_clust_nosub_30_deg_traj_1_bychain = pd.read_csv(\"data/Lipid_Clustering_Counts_by_Chain_scaled_nosub_30_deg_traj_1.csv\")\n",
    "lipid_clust_nosub_30_deg_traj_2_bychain = pd.read_csv(\"data/Lipid_Clustering_Counts_by_Chain_scaled_nosub_30_deg_traj_2.csv\")\n",
    "lipid_clust_nosub_37_deg_traj_1_bychain = pd.read_csv(\"data/Lipid_Clustering_Counts_by_Chain_scaled_nosub_37_deg_traj_1.csv\")\n",
    "lipid_clust_nosub_37_deg_traj_2_bychain = pd.read_csv(\"data/Lipid_Clustering_Counts_by_Chain_scaled_nosub_37_deg_traj_2.csv\")"
   ]
  },
  {
   "cell_type": "code",
   "execution_count": null,
   "metadata": {},
   "outputs": [],
   "source": [
    "# Combine temps as well & concat\n",
    "lipid_clust_sub = pd.concat([lipid_clust_sub_30_deg_traj_1,lipid_clust_sub_30_deg_traj_2,lipid_clust_sub_37_deg_traj_1,lipid_clust_sub_37_deg_traj_2],ignore_index=True)\n",
    "lipid_clust_nosub = pd.concat([lipid_clust_nosub_30_deg_traj_1,lipid_clust_nosub_30_deg_traj_2,lipid_clust_nosub_37_deg_traj_1,lipid_clust_nosub_37_deg_traj_2],ignore_index=True)"
   ]
  },
  {
   "cell_type": "code",
   "execution_count": null,
   "metadata": {},
   "outputs": [],
   "source": [
    "# Combine temps as well & concat - by chain\n",
    "lipid_clust_sub_bychain = pd.concat([lipid_clust_sub_30_deg_traj_1_bychain,lipid_clust_sub_30_deg_traj_2_bychain,lipid_clust_sub_37_deg_traj_1_bychain,lipid_clust_sub_37_deg_traj_2_bychain],ignore_index=True)\n",
    "lipid_clust_nosub_bychain = pd.concat([lipid_clust_nosub_30_deg_traj_1_bychain,lipid_clust_nosub_30_deg_traj_2_bychain,lipid_clust_nosub_37_deg_traj_1_bychain,lipid_clust_nosub_37_deg_traj_2_bychain],ignore_index=True)"
   ]
  },
  {
   "cell_type": "code",
   "execution_count": null,
   "metadata": {},
   "outputs": [],
   "source": [
    "# Reset index to remove multi-indexing for combined temps\n",
    "lipid_clust_sub.reset_index(inplace = True)\n",
    "lipid_clust_nosub.reset_index(inplace = True)"
   ]
  },
  {
   "cell_type": "code",
   "execution_count": null,
   "metadata": {},
   "outputs": [],
   "source": [
    "# Reset index to remove multi-indexing for combined temps - by domain & chain\n",
    "lipid_clust_sub_bychain.reset_index(inplace = True)\n",
    "lipid_clust_nosub_bychain.reset_index(inplace = True)"
   ]
  },
  {
   "cell_type": "code",
   "execution_count": null,
   "metadata": {},
   "outputs": [],
   "source": [
    "# Add in substrate info\n",
    "lipid_clust_sub[\"Substrate\"] = \"yes\"\n",
    "lipid_clust_nosub[\"Substrate\"] = \"no\""
   ]
  },
  {
   "cell_type": "code",
   "execution_count": null,
   "metadata": {},
   "outputs": [],
   "source": [
    "# Add in substrate info - by domain & chain\n",
    "lipid_clust_sub_bychain[\"Substrate\"] = \"yes\"\n",
    "lipid_clust_nosub_bychain[\"Substrate\"] = \"no\""
   ]
  },
  {
   "cell_type": "code",
   "execution_count": null,
   "metadata": {},
   "outputs": [],
   "source": [
    "# Concat sub and no sub for plotting\n",
    "lipid_clust = pd.concat([lipid_clust_sub,lipid_clust_nosub])"
   ]
  },
  {
   "cell_type": "code",
   "execution_count": null,
   "metadata": {},
   "outputs": [],
   "source": [
    "# Concat sub and no sub for plotting - by domain & chain\n",
    "lipid_clust_bychain = pd.concat([lipid_clust_sub_bychain,lipid_clust_nosub_bychain])"
   ]
  },
  {
   "cell_type": "code",
   "execution_count": null,
   "metadata": {},
   "outputs": [],
   "source": [
    "# Add label for seaborn plot\n",
    "lipid_clust[\"Label\"] = lipid_clust[\"Substrate\"].astype(str) + \" \" + lipid_clust[\"Lipid\"].astype(str)"
   ]
  },
  {
   "cell_type": "code",
   "execution_count": null,
   "metadata": {},
   "outputs": [],
   "source": [
    "# Add label for seaborn plot - by domain & chain\n",
    "lipid_clust_bychain[\"Label\"] = lipid_clust_bychain[\"Substrate\"].astype(str) + \" \" + lipid_clust_bychain[\"Lipid\"].astype(str)"
   ]
  },
  {
   "cell_type": "markdown",
   "metadata": {},
   "source": [
    "#### Plots"
   ]
  },
  {
   "cell_type": "code",
   "execution_count": null,
   "metadata": {},
   "outputs": [],
   "source": [
    "fig_dims = (30, 10)\n",
    "fig, ax = plt.subplots(figsize=fig_dims)\n",
    "clust_fig_label = sns.barplot(data=lipid_clust, x='Domain', y='Scaled_Median_Count', hue='Label',estimator=np.mean,ci=90).get_figure();\n",
    "clust_fig_label.savefig(\"Lipid Clustering\", dpi=300)"
   ]
  },
  {
   "cell_type": "code",
   "execution_count": null,
   "metadata": {},
   "outputs": [],
   "source": [
    "fig_dims = (30, 10)\n",
    "fig, ax = plt.subplots(figsize=fig_dims)\n",
    "clust_fig = sns.barplot(data=lipid_clust, x='Domain', y='Scaled_Median_Count', hue='Substrate',estimator=np.mean,ci=90).get_figure();\n",
    "clust_fig.savefig(\"Lipid Clustering by substrate\", dpi=300)"
   ]
  },
  {
   "cell_type": "code",
   "execution_count": null,
   "metadata": {},
   "outputs": [],
   "source": [
    "fig_dims = (30, 10)\n",
    "fig, ax = plt.subplots(figsize=fig_dims)\n",
    "clust_fig_bychain = sns.barplot(data=lipid_clust_bychain, x='Domain', y='Scaled_Median_Count', hue='Substrate',estimator=np.mean,ci=90).get_figure();\n",
    "clust_fig_bychain.savefig(\"Lipid Clustering by substrate and chain\", dpi=300)"
   ]
  },
  {
   "cell_type": "code",
   "execution_count": null,
   "metadata": {},
   "outputs": [],
   "source": [
    "fig_dims = (30, 10)\n",
    "fig, ax = plt.subplots(figsize=fig_dims)\n",
    "clust_fig_bychain_label = sns.barplot(data=lipid_clust_bychain, x='Domain', y='Scaled_Median_Count', hue='Label',estimator=np.mean,ci=90).get_figure();\n",
    "clust_fig_bychain_label.savefig(\"Lipid Clustering by chain\", dpi=300)"
   ]
  },
  {
   "cell_type": "markdown",
   "metadata": {},
   "source": [
    "### Permutation Test - Lipid Clustering"
   ]
  },
  {
   "cell_type": "markdown",
   "metadata": {},
   "source": [
    "Test permutation test against my data & see differences in the output distributions."
   ]
  },
  {
   "cell_type": "code",
   "execution_count": null,
   "metadata": {},
   "outputs": [],
   "source": [
    "# Extract values for the test separated by substrate and no substrate\n",
    "perm_sub_clust, perm_nosub_clust = extract_sub_vals_clust(lipid_clust_bychain)"
   ]
  },
  {
   "cell_type": "code",
   "execution_count": null,
   "metadata": {},
   "outputs": [],
   "source": [
    "#Get permutation test distribution for substrate vs no substrate lipid clustering\n",
    "pooled = np.hstack([perm_sub_clust,perm_nosub_clust])\n",
    "sizeA = 96\n",
    "sizeB= 96\n",
    "iterations = 1000000\n",
    "test = permutation(pooled,sizeA,sizeB,iterations)"
   ]
  },
  {
   "cell_type": "code",
   "execution_count": null,
   "metadata": {},
   "outputs": [],
   "source": [
    "#Plot permutation test histogram\n",
    "plt.hist(test,bins=100);\n",
    "plt.title(\"Permutation Test Substrate vs No Substrate\")\n",
    "plt.xlabel(\"Mean Difference\")\n",
    "plt.ylabel(\"Frequency\");\n",
    "plt.savefig(\"Permutation Test Sub vs No Sub Lipid Clustering\", dpi=150)"
   ]
  },
  {
   "cell_type": "code",
   "execution_count": null,
   "metadata": {},
   "outputs": [],
   "source": [
    "#Calculate p-values using permutation test distribution\n",
    "p_val_clust_perm = p_val(diff_lipid_clust,iterations,test)"
   ]
  },
  {
   "cell_type": "code",
   "execution_count": null,
   "metadata": {},
   "outputs": [],
   "source": [
    "#Convert p-values to series for saving\n",
    "p_val_clust_perm_series = pd.Series(p_val_clust_perm, name='uncorrected p-value')\n",
    "p_val_clust_perm_series.index.name = \"Domain\"\n",
    "p_val_clust_perm_series.reset_index()"
   ]
  },
  {
   "cell_type": "code",
   "execution_count": null,
   "metadata": {},
   "outputs": [],
   "source": [
    "#save p-values!\n",
    "p_val_clust_perm_series.to_csv('Lipid clustering permutation p-values.csv')"
   ]
  },
  {
   "cell_type": "code",
   "execution_count": null,
   "metadata": {},
   "outputs": [],
   "source": [
    "#Filter for significant p-values for CDL2 preference\n",
    "perm_clust_p_val_sig = sig_p_val(p_val_clust_perm,0.05)"
   ]
  },
  {
   "cell_type": "markdown",
   "metadata": {},
   "source": [
    "7 regions which show significant differences (1% sig level) when substrate is present & not present based on the permutation test (p-vals are corrected):\n",
    "\n",
    "Chain A CLD: CDL2 --> p-val 1.2e-05\\\n",
    "Chain A CLD: POPE --> p-val 0.0\\\n",
    "Chain A CLD: POPG --> p-val 5.4e-05\\\n",
    "Chain A Transmembrane Arm: POPE --> p-val 2.7e-05\\\n",
    "Chain A Transmembrane Top: POPE --> p-val 0.0\\\n",
    "Chain B CLD: POPE --> p-val 0.0\\\n",
    "Chain B Transmembrane Top: POPE --> p-val 1.5e-05"
   ]
  },
  {
   "cell_type": "markdown",
   "metadata": {},
   "source": [
    "9 regions which show significant differences (5% sig level) when substrate is present & not present based on the permutation test (p-vals are corrected):\n",
    "\n",
    "Chain A CLD: CDL2 --> p-val 1.2e-05\\\n",
    "Chain A CLD: POPE --> p-val 0.0\\\n",
    "Chain A CLD: POPG --> p-val 5.4e-05\\\n",
    "Chain A Substrate Entrance Channel: POPE --> p-val 0.001655\\\n",
    "Chain A Transmembrane Arm: POPE --> p-val 2.7e-05\\\n",
    "Chain A Transmembrane Top: POPE --> p-val 0.0\\\n",
    "Chain B CLD: POPE --> p-val 0.0\\\n",
    "Chain B Transmembrane Top: POPE --> p-val 1.5e-05\\\n",
    "Chain B Transmembrane Top: POPG --> p-val 0.001811"
   ]
  },
  {
   "cell_type": "markdown",
   "metadata": {},
   "source": [
    "Regions with lipid depletion when sub not present:\\\n",
    "Chain A CLD --> for CDL2, POPE & POPG\\\n",
    "Chain A Transmembrane Arm --> POPE\\\n",
    "Chain A Transmembrane Top --> POPE\\\n",
    "Chain B CLD --> POPE\\\n",
    "Chain B Transmembrane ToP --> POPE\\\n",
    "Chain B Transmembrane Top --> POPG\n",
    "\n",
    "Regions with lipid depletion when sub present:\\\n",
    "Chain A Substrate Entrance Channel --> POPE"
   ]
  },
  {
   "cell_type": "markdown",
   "metadata": {},
   "source": [
    "## SASA Analysis"
   ]
  },
  {
   "cell_type": "code",
   "execution_count": null,
   "metadata": {},
   "outputs": [],
   "source": [
    "# Chain A 30 degrees\n",
    "chain_A_traj_1_sub_30_deg_x,chain_A_traj_1_sub_30_deg_y = np.loadtxt(\"data/Traj_1_Sub_30_deg_Chain_A_CLD_sasa.xvg\",comments=[\"@\",\"#\"],unpack=True)\n",
    "chain_A_traj_2_sub_30_deg_x,chain_A_traj_2_sub_30_deg_y = np.loadtxt(\"data/Traj_2_Sub_30_deg_Chain_A_CLD_sasa.xvg\",comments=[\"@\",\"#\"],unpack=True)\n",
    "chain_A_traj_1_nosub_30_deg_x,chain_A_traj_1_nosub_30_deg_y = np.loadtxt(\"data/Traj_1_NoSub_30_deg_Chain_A_CLD_sasa.xvg\",comments=[\"@\",\"#\"],unpack=True)\n",
    "chain_A_traj_2_nosub_30_deg_x,chain_A_traj_2_nosub_30_deg_y = np.loadtxt(\"data/Traj_2_NoSub_30_deg_Chain_A_CLD_sasa.xvg\",comments=[\"@\",\"#\"],unpack=True)"
   ]
  },
  {
   "cell_type": "code",
   "execution_count": null,
   "metadata": {},
   "outputs": [],
   "source": [
    "# Chain B 30 degrees\n",
    "chain_B_traj_1_sub_30_deg_x,chain_B_traj_1_sub_30_deg_y = np.loadtxt(\"data/Traj_1_Sub_30_deg_Chain_B_CLD_sasa.xvg\",comments=[\"@\",\"#\"],unpack=True)\n",
    "chain_B_traj_2_sub_30_deg_x,chain_B_traj_2_sub_30_deg_y = np.loadtxt(\"data/Traj_2_Sub_30_deg_Chain_B_CLD_sasa.xvg\",comments=[\"@\",\"#\"],unpack=True)\n",
    "chain_B_traj_1_nosub_30_deg_x,chain_B_traj_1_nosub_30_deg_y = np.loadtxt(\"data/Traj_1_NoSub_30_deg_Chain_B_CLD_sasa.xvg\",comments=[\"@\",\"#\"],unpack=True)\n",
    "chain_B_traj_2_nosub_30_deg_x,chain_B_traj_2_nosub_30_deg_y = np.loadtxt(\"data/Traj_2_NoSub_30_deg_Chain_B_CLD_sasa.xvg\",comments=[\"@\",\"#\"],unpack=True)"
   ]
  },
  {
   "cell_type": "code",
   "execution_count": null,
   "metadata": {},
   "outputs": [],
   "source": [
    "# Chain A 37 degrees\n",
    "chain_A_traj_1_sub_37_deg_x,chain_A_traj_1_sub_37_deg_y = np.loadtxt(\"data/Traj_1_Sub_37_deg_Chain_A_CLD_sasa.xvg\",comments=[\"@\",\"#\"],unpack=True)\n",
    "chain_A_traj_2_sub_37_deg_x,chain_A_traj_2_sub_37_deg_y = np.loadtxt(\"data/Traj_2_Sub_37_deg_Chain_A_CLD_sasa.xvg\",comments=[\"@\",\"#\"],unpack=True)\n",
    "chain_A_traj_1_nosub_37_deg_x,chain_A_traj_1_nosub_37_deg_y = np.loadtxt(\"data/Traj_1_NoSub_37_deg_Chain_A_CLD_sasa.xvg\",comments=[\"@\",\"#\"],unpack=True)\n",
    "chain_A_traj_2_nosub_37_deg_x,chain_A_traj_2_nosub_37_deg_y = np.loadtxt(\"data/Traj_2_NoSub_37_deg_Chain_A_CLD_sasa.xvg\",comments=[\"@\",\"#\"],unpack=True)"
   ]
  },
  {
   "cell_type": "code",
   "execution_count": null,
   "metadata": {},
   "outputs": [],
   "source": [
    "# Chain B 37 degrees\n",
    "chain_B_traj_1_sub_37_deg_x,chain_B_traj_1_sub_37_deg_y = np.loadtxt(\"data/Traj_1_Sub_37_deg_Chain_B_CLD_sasa.xvg\",comments=[\"@\",\"#\"],unpack=True)\n",
    "chain_B_traj_2_sub_37_deg_x,chain_B_traj_2_sub_37_deg_y = np.loadtxt(\"data/Traj_2_Sub_37_deg_Chain_B_CLD_sasa.xvg\",comments=[\"@\",\"#\"],unpack=True)\n",
    "chain_B_traj_1_nosub_37_deg_x,chain_B_traj_1_nosub_37_deg_y = np.loadtxt(\"data/Traj_1_NoSub_37_deg_Chain_B_CLD_sasa.xvg\",comments=[\"@\",\"#\"],unpack=True)\n",
    "chain_B_traj_2_nosub_37_deg_x,chain_B_traj_2_nosub_37_deg_y = np.loadtxt(\"data/Traj_2_NoSub_37_deg_Chain_B_CLD_sasa.xvg\",comments=[\"@\",\"#\"],unpack=True)"
   ]
  },
  {
   "cell_type": "code",
   "execution_count": null,
   "metadata": {},
   "outputs": [],
   "source": [
    "# Chain A 30 degrees data dicts\n",
    "d_traj_1_chain_A_sub_30_deg = {\"Time(ns)\":chain_A_traj_1_sub_30_deg_x,'Area':chain_A_traj_1_sub_30_deg_y}\n",
    "d_traj_2_chain_A_sub_30_deg = {\"Time(ns)\":chain_A_traj_1_sub_30_deg_x,'Area':chain_A_traj_1_sub_30_deg_y}\n",
    "d_traj_1_chain_A_nosub_30_deg = {\"Time(ns)\":chain_A_traj_1_nosub_30_deg_x,'Area':chain_A_traj_1_nosub_30_deg_y}\n",
    "d_traj_2_chain_A_nosub_30_deg = {\"Time(ns)\":chain_A_traj_1_nosub_30_deg_x,'Area':chain_A_traj_1_nosub_30_deg_y}"
   ]
  },
  {
   "cell_type": "code",
   "execution_count": null,
   "metadata": {},
   "outputs": [],
   "source": [
    "# Chain B 30 degrees data dicts\n",
    "d_traj_1_chain_B_sub_30_deg = {\"Time(ns)\":chain_B_traj_1_sub_30_deg_x,'Area':chain_B_traj_1_sub_30_deg_y}\n",
    "d_traj_2_chain_B_sub_30_deg = {\"Time(ns)\":chain_B_traj_1_sub_30_deg_x,'Area':chain_B_traj_1_sub_30_deg_y}\n",
    "d_traj_1_chain_B_nosub_30_deg = {\"Time(ns)\":chain_B_traj_1_nosub_30_deg_x,'Area':chain_B_traj_1_nosub_30_deg_y}\n",
    "d_traj_2_chain_B_nosub_30_deg = {\"Time(ns)\":chain_B_traj_1_nosub_30_deg_x,'Area':chain_B_traj_1_nosub_30_deg_y}"
   ]
  },
  {
   "cell_type": "code",
   "execution_count": null,
   "metadata": {},
   "outputs": [],
   "source": [
    "# Chain A 37 degrees data dicts\n",
    "d_traj_1_chain_A_sub_37_deg = {\"Time(ns)\":chain_A_traj_1_sub_37_deg_x,'Area':chain_A_traj_1_sub_37_deg_y}\n",
    "d_traj_2_chain_A_sub_37_deg = {\"Time(ns)\":chain_A_traj_1_sub_37_deg_x,'Area':chain_A_traj_1_sub_37_deg_y}\n",
    "d_traj_1_chain_A_nosub_37_deg = {\"Time(ns)\":chain_A_traj_1_nosub_37_deg_x,'Area':chain_A_traj_1_nosub_37_deg_y}\n",
    "d_traj_2_chain_A_nosub_37_deg = {\"Time(ns)\":chain_A_traj_1_nosub_37_deg_x,'Area':chain_A_traj_1_nosub_37_deg_y}"
   ]
  },
  {
   "cell_type": "code",
   "execution_count": null,
   "metadata": {},
   "outputs": [],
   "source": [
    "# Chain B 37 degrees data dicts\n",
    "d_traj_1_chain_B_sub_37_deg = {\"Time(ns)\":chain_B_traj_1_sub_37_deg_x,'Area':chain_B_traj_1_sub_37_deg_y}\n",
    "d_traj_2_chain_B_sub_37_deg = {\"Time(ns)\":chain_B_traj_1_sub_37_deg_x,'Area':chain_B_traj_1_sub_37_deg_y}\n",
    "d_traj_1_chain_B_nosub_37_deg = {\"Time(ns)\":chain_B_traj_1_nosub_37_deg_x,'Area':chain_B_traj_1_nosub_37_deg_y}\n",
    "d_traj_2_chain_B_nosub_37_deg = {\"Time(ns)\":chain_B_traj_1_nosub_37_deg_x,'Area':chain_B_traj_1_nosub_37_deg_y}"
   ]
  },
  {
   "cell_type": "code",
   "execution_count": null,
   "metadata": {},
   "outputs": [],
   "source": [
    "# Chain A 30 degrees dataframes from dicts\n",
    "traj_1_chain_A_sub_30_deg = pd.DataFrame(d_traj_1_chain_A_sub_30_deg)\n",
    "traj_2_chain_A_sub_30_deg = pd.DataFrame(d_traj_2_chain_A_sub_30_deg)\n",
    "traj_1_chain_A_nosub_30_deg = pd.DataFrame(d_traj_1_chain_A_nosub_30_deg)\n",
    "traj_2_chain_A_nosub_30_deg = pd.DataFrame(d_traj_2_chain_A_nosub_30_deg)"
   ]
  },
  {
   "cell_type": "code",
   "execution_count": null,
   "metadata": {},
   "outputs": [],
   "source": [
    "# Chain B 30 degrees dataframes from dicts\n",
    "traj_1_chain_B_sub_30_deg = pd.DataFrame(d_traj_1_chain_B_sub_30_deg)\n",
    "traj_2_chain_B_sub_30_deg = pd.DataFrame(d_traj_2_chain_B_sub_30_deg)\n",
    "traj_1_chain_B_nosub_30_deg = pd.DataFrame(d_traj_1_chain_B_nosub_30_deg)\n",
    "traj_2_chain_B_nosub_30_deg = pd.DataFrame(d_traj_2_chain_B_nosub_30_deg)"
   ]
  },
  {
   "cell_type": "code",
   "execution_count": null,
   "metadata": {},
   "outputs": [],
   "source": [
    "# Chain A 37 degrees dataframes from dicts\n",
    "traj_1_chain_A_sub_37_deg = pd.DataFrame(d_traj_1_chain_A_sub_37_deg)\n",
    "traj_2_chain_A_sub_37_deg = pd.DataFrame(d_traj_2_chain_A_sub_37_deg)\n",
    "traj_1_chain_A_nosub_37_deg = pd.DataFrame(d_traj_1_chain_A_nosub_37_deg)\n",
    "traj_2_chain_A_nosub_37_deg = pd.DataFrame(d_traj_2_chain_A_nosub_37_deg)"
   ]
  },
  {
   "cell_type": "code",
   "execution_count": null,
   "metadata": {},
   "outputs": [],
   "source": [
    "# Chain B 37 degrees dataframes from dicts\n",
    "traj_1_chain_B_sub_37_deg = pd.DataFrame(d_traj_1_chain_B_sub_37_deg)\n",
    "traj_2_chain_B_sub_37_deg = pd.DataFrame(d_traj_2_chain_B_sub_37_deg)\n",
    "traj_1_chain_B_nosub_37_deg = pd.DataFrame(d_traj_1_chain_B_nosub_37_deg)\n",
    "traj_2_chain_B_nosub_37_deg = pd.DataFrame(d_traj_2_chain_B_nosub_37_deg)"
   ]
  },
  {
   "cell_type": "code",
   "execution_count": null,
   "metadata": {},
   "outputs": [],
   "source": [
    "# Chain A 30 degrees aggregate by trajectory\n",
    "chain_A_sub_30_deg = pd.concat([traj_1_chain_A_sub_30_deg,\n",
    "                               traj_2_chain_A_sub_30_deg]).groupby('Time(ns)').agg(avg=('Area','mean'))\n",
    "chain_A_nosub_30_deg = pd.concat([traj_1_chain_A_nosub_30_deg,\n",
    "                               traj_2_chain_A_nosub_30_deg]).groupby('Time(ns)').agg(avg=('Area','mean'))"
   ]
  },
  {
   "cell_type": "code",
   "execution_count": null,
   "metadata": {},
   "outputs": [],
   "source": [
    "# Chain B 30 degrees aggregate by trajectory\n",
    "chain_B_sub_30_deg = pd.concat([traj_1_chain_B_sub_30_deg,\n",
    "                               traj_2_chain_B_sub_30_deg]).groupby('Time(ns)').agg(avg=('Area','mean'))\n",
    "chain_B_nosub_30_deg = pd.concat([traj_1_chain_B_nosub_30_deg,\n",
    "                               traj_2_chain_B_nosub_30_deg]).groupby('Time(ns)').agg(avg=('Area','mean'))"
   ]
  },
  {
   "cell_type": "code",
   "execution_count": null,
   "metadata": {},
   "outputs": [],
   "source": [
    "# Chain A 37 degrees aggregate by trajectory\n",
    "chain_A_sub_37_deg = pd.concat([traj_1_chain_A_sub_37_deg,\n",
    "                               traj_2_chain_A_sub_37_deg]).groupby('Time(ns)').agg(avg=('Area','mean'))\n",
    "chain_A_nosub_37_deg = pd.concat([traj_1_chain_A_nosub_37_deg,\n",
    "                               traj_2_chain_A_nosub_37_deg]).groupby('Time(ns)').agg(avg=('Area','mean'))"
   ]
  },
  {
   "cell_type": "code",
   "execution_count": null,
   "metadata": {},
   "outputs": [],
   "source": [
    "# Chain B 37 degrees aggregate by trajectory\n",
    "chain_B_sub_37_deg = pd.concat([traj_1_chain_B_sub_37_deg,\n",
    "                               traj_2_chain_B_sub_37_deg]).groupby('Time(ns)').agg(avg=('Area','mean'))\n",
    "chain_B_nosub_37_deg = pd.concat([traj_1_chain_B_nosub_37_deg,\n",
    "                               traj_2_chain_B_nosub_37_deg]).groupby('Time(ns)').agg(avg=('Area','mean'))"
   ]
  },
  {
   "cell_type": "code",
   "execution_count": null,
   "metadata": {},
   "outputs": [],
   "source": [
    "# Aggregate by temp - chain A\n",
    "chain_A_sub = pd.concat([traj_1_chain_A_sub_30_deg,traj_2_chain_A_sub_30_deg,\n",
    "                         traj_1_chain_A_sub_37_deg,traj_2_chain_A_sub_37_deg]).groupby('Time(ns)').agg(avg=('Area','mean'),std=('Area','std'))\n",
    "chain_A_nosub = pd.concat([traj_1_chain_A_nosub_30_deg,traj_2_chain_A_nosub_30_deg,\n",
    "                         traj_1_chain_A_nosub_37_deg,traj_2_chain_A_nosub_37_deg]).groupby('Time(ns)').agg(avg=('Area','mean'),std=('Area','std'))"
   ]
  },
  {
   "cell_type": "code",
   "execution_count": null,
   "metadata": {},
   "outputs": [],
   "source": [
    "# Aggregate by temp - chain B\n",
    "chain_B_sub = pd.concat([traj_1_chain_B_sub_30_deg,traj_2_chain_B_sub_30_deg,\n",
    "                         traj_1_chain_B_sub_37_deg,traj_2_chain_B_sub_37_deg]).groupby('Time(ns)').agg(avg=('Area','mean'),std=('Area','std'))\n",
    "chain_B_nosub = pd.concat([traj_1_chain_B_nosub_30_deg,traj_2_chain_B_nosub_30_deg,\n",
    "                         traj_1_chain_B_nosub_37_deg,traj_2_chain_B_nosub_37_deg]).groupby('Time(ns)').agg(avg=('Area','mean'),std=('Area','std'))"
   ]
  },
  {
   "cell_type": "code",
   "execution_count": null,
   "metadata": {},
   "outputs": [],
   "source": [
    "#Reset index to remove multi-indexing - Chain A 30 degrees\n",
    "chain_A_sub_30_deg.reset_index(inplace = True)\n",
    "chain_A_nosub_30_deg.reset_index(inplace = True)"
   ]
  },
  {
   "cell_type": "code",
   "execution_count": null,
   "metadata": {},
   "outputs": [],
   "source": [
    "#Reset index to remove multi-indexing - Chain B 30 degrees\n",
    "chain_B_sub_30_deg.reset_index(inplace = True)\n",
    "chain_B_nosub_30_deg.reset_index(inplace = True)"
   ]
  },
  {
   "cell_type": "code",
   "execution_count": null,
   "metadata": {},
   "outputs": [],
   "source": [
    "#Reset index to remove multi-indexing - Chain A 37 degrees\n",
    "chain_A_sub_37_deg.reset_index(inplace = True)\n",
    "chain_A_nosub_37_deg.reset_index(inplace = True)"
   ]
  },
  {
   "cell_type": "code",
   "execution_count": null,
   "metadata": {},
   "outputs": [],
   "source": [
    "#Reset index to remove multi-indexing - Chain B 37 degrees\n",
    "chain_B_sub_37_deg.reset_index(inplace = True)\n",
    "chain_B_nosub_37_deg.reset_index(inplace = True)"
   ]
  },
  {
   "cell_type": "code",
   "execution_count": null,
   "metadata": {},
   "outputs": [],
   "source": [
    "#Reset index to remove multi-indexing - Chain A\n",
    "chain_A_sub.reset_index(inplace = True)\n",
    "chain_A_nosub.reset_index(inplace = True)"
   ]
  },
  {
   "cell_type": "code",
   "execution_count": null,
   "metadata": {},
   "outputs": [],
   "source": [
    "#Reset index to remove multi-indexing - Chain B\n",
    "chain_B_sub.reset_index(inplace = True)\n",
    "chain_B_nosub.reset_index(inplace = True)"
   ]
  },
  {
   "cell_type": "code",
   "execution_count": null,
   "metadata": {},
   "outputs": [],
   "source": [
    "# Calulate rolling average - Chain A 30 degrees\n",
    "chain_A_sub_30_deg_rolling = chain_A_sub_30_deg[\"avg\"].rolling(window=1000,center=True).mean()\n",
    "chain_A_nosub_30_deg_rolling = chain_A_nosub_30_deg[\"avg\"].rolling(window=1000,center=True).mean()"
   ]
  },
  {
   "cell_type": "code",
   "execution_count": null,
   "metadata": {},
   "outputs": [],
   "source": [
    "# Calulate rolling average - Chain B 30 degrees\n",
    "chain_B_sub_30_deg_rolling = chain_B_sub_30_deg[\"avg\"].rolling(window=1000,center=True).mean()\n",
    "chain_B_nosub_30_deg_rolling = chain_B_nosub_30_deg[\"avg\"].rolling(window=1000,center=True).mean()"
   ]
  },
  {
   "cell_type": "code",
   "execution_count": null,
   "metadata": {},
   "outputs": [],
   "source": [
    "# Calulate rolling average - Chain A 37 degrees\n",
    "chain_A_sub_37_deg_rolling = chain_A_sub_37_deg[\"avg\"].rolling(window=1000,center=True).mean()\n",
    "chain_A_nosub_37_deg_rolling = chain_A_nosub_37_deg[\"avg\"].rolling(window=1000,center=True).mean()"
   ]
  },
  {
   "cell_type": "code",
   "execution_count": null,
   "metadata": {},
   "outputs": [],
   "source": [
    "# Calulate rolling average - Chain B 37 degrees\n",
    "chain_B_sub_37_deg_rolling = chain_B_sub_37_deg[\"avg\"].rolling(window=1000,center=True).mean()\n",
    "chain_B_nosub_37_deg_rolling = chain_B_nosub_37_deg[\"avg\"].rolling(window=1000,center=True).mean()"
   ]
  },
  {
   "cell_type": "code",
   "execution_count": null,
   "metadata": {},
   "outputs": [],
   "source": [
    "# Calulate rolling average - Chain A\n",
    "chain_A_sub_rolling = chain_A_sub[\"avg\"].rolling(window=1000,center=True).mean()\n",
    "chain_A_nosub_rolling = chain_A_nosub[\"avg\"].rolling(window=1000,center=True).mean()"
   ]
  },
  {
   "cell_type": "code",
   "execution_count": null,
   "metadata": {},
   "outputs": [],
   "source": [
    "# Calulate rolling average - Chain A\n",
    "chain_B_sub_rolling = chain_B_sub[\"avg\"].rolling(window=1000,center=True).mean()\n",
    "chain_B_nosub_rolling = chain_B_nosub[\"avg\"].rolling(window=1000,center=True).mean()"
   ]
  },
  {
   "cell_type": "code",
   "execution_count": null,
   "metadata": {},
   "outputs": [],
   "source": [
    "# Plot results - Chain A 30 degrees\n",
    "plt.errorbar(x=chain_A_sub_30_deg[\"Time(ns)\"],y=chain_A_sub_30_deg[\"avg\"],label=\"Substrate 303.15 K\")\n",
    "plt.errorbar(x=chain_A_nosub_30_deg[\"Time(ns)\"],y=chain_A_nosub_30_deg[\"avg\"],label=\"No Substrate 303.15 K\")\n",
    "plt.errorbar(x=chain_A_sub_30_deg[\"Time(ns)\"],y=chain_A_sub_30_deg_rolling)\n",
    "plt.errorbar(x=chain_A_nosub_30_deg[\"Time(ns)\"],y=chain_A_nosub_30_deg_rolling)\n",
    "plt.legend(loc='upper left')\n",
    "plt.title(\"Chain A Solvent Accessible Surface Area\")\n",
    "plt.xlabel(\"Time (ns)\")\n",
    "plt.ylabel(\"Area ($nm^2$)\")\n",
    "plt.savefig(\"Chain A SASA Sub vs No Sub 303.15 K.png\", dpi=300)"
   ]
  },
  {
   "cell_type": "code",
   "execution_count": null,
   "metadata": {},
   "outputs": [],
   "source": [
    "# Plot results - Chain B 30 degrees\n",
    "plt.errorbar(x=chain_B_sub_30_deg[\"Time(ns)\"],y=chain_B_sub_30_deg[\"avg\"],label=\"Substrate 303.15 K\")\n",
    "plt.errorbar(x=chain_B_nosub_30_deg[\"Time(ns)\"],y=chain_B_nosub_30_deg[\"avg\"],label=\"No Substrate 303.15 K\")\n",
    "plt.errorbar(x=chain_B_sub_30_deg[\"Time(ns)\"],y=chain_B_sub_30_deg_rolling)\n",
    "plt.errorbar(x=chain_B_nosub_30_deg[\"Time(ns)\"],y=chain_B_nosub_30_deg_rolling)\n",
    "plt.legend(loc='upper left')\n",
    "plt.title(\"Chain B Solvent Accessible Surface Area\")\n",
    "plt.xlabel(\"Time (ns)\")\n",
    "plt.ylabel(\"Area ($nm^2$)\")\n",
    "plt.savefig(\"Chain B SASA Sub vs No Sub 303.15 K.png\", dpi=300)"
   ]
  },
  {
   "cell_type": "code",
   "execution_count": null,
   "metadata": {},
   "outputs": [],
   "source": [
    "# Plot results - Chain A 37 degrees\n",
    "plt.errorbar(x=chain_A_sub_37_deg[\"Time(ns)\"],y=chain_A_sub_37_deg[\"avg\"],label=\"Substrate 310.15 K\")\n",
    "plt.errorbar(x=chain_A_nosub_37_deg[\"Time(ns)\"],y=chain_A_nosub_37_deg[\"avg\"],label=\"No Substrate 310.15 K\")\n",
    "plt.errorbar(x=chain_A_sub_37_deg[\"Time(ns)\"],y=chain_A_sub_37_deg_rolling)\n",
    "plt.errorbar(x=chain_A_nosub_37_deg[\"Time(ns)\"],y=chain_A_nosub_37_deg_rolling)\n",
    "plt.legend(loc='upper left')\n",
    "plt.title(\"Chain A Solvent Accessible Surface Area\")\n",
    "plt.xlabel(\"Time (ns)\")\n",
    "plt.ylabel(\"Area ($nm^2$)\")\n",
    "plt.savefig(\"Chain A SASA Sub vs No Sub 310.15 K.png\", dpi=300)"
   ]
  },
  {
   "cell_type": "code",
   "execution_count": null,
   "metadata": {},
   "outputs": [],
   "source": [
    "# Plot results - Chain B 37 degrees\n",
    "plt.errorbar(x=chain_B_sub_37_deg[\"Time(ns)\"],y=chain_B_sub_37_deg[\"avg\"],label=\"Substrate 310.15 K\")\n",
    "plt.errorbar(x=chain_B_nosub_37_deg[\"Time(ns)\"],y=chain_B_nosub_37_deg[\"avg\"],label=\"No Substrate 310.15 K\")\n",
    "plt.errorbar(x=chain_B_sub_37_deg[\"Time(ns)\"],y=chain_B_sub_37_deg_rolling)\n",
    "plt.errorbar(x=chain_B_nosub_37_deg[\"Time(ns)\"],y=chain_B_nosub_37_deg_rolling)\n",
    "plt.legend(loc='upper left')\n",
    "plt.title(\"Chain B Solvent Accessible Surface Area\")\n",
    "plt.xlabel(\"Time (ns)\")\n",
    "plt.ylabel(\"Area ($nm^2$)\")\n",
    "plt.savefig(\"Chain B SASA Sub vs No Sub 310.15 K.png\", dpi=300)"
   ]
  },
  {
   "cell_type": "code",
   "execution_count": null,
   "metadata": {},
   "outputs": [],
   "source": [
    "# Plot results - Chain A\n",
    "plt.errorbar(x=chain_A_sub[\"Time(ns)\"],y=chain_A_sub[\"avg\"],yerr=chain_A_sub['std'],label=\"Substrate\")\n",
    "plt.errorbar(x=chain_A_nosub[\"Time(ns)\"],y=chain_A_nosub[\"avg\"],yerr=chain_A_nosub['std'],label=\"No Substrate\")\n",
    "plt.errorbar(x=chain_A_sub[\"Time(ns)\"],y=chain_A_sub_rolling,label=\"Substrate Rolling Average\")\n",
    "plt.errorbar(x=chain_A_nosub[\"Time(ns)\"],y=chain_A_nosub_rolling,label=\"No Substrate Rolling Average\")\n",
    "plt.legend(loc='upper left')\n",
    "plt.title(\"Chain A Solvent Accessible Surface Area\")\n",
    "plt.xlabel(\"Time (ns)\")\n",
    "plt.ylabel(\"Area ($nm^2$)\")\n",
    "plt.savefig(\"Chain A SASA Sub vs No Sub label.png\", dpi=300)"
   ]
  },
  {
   "cell_type": "code",
   "execution_count": null,
   "metadata": {},
   "outputs": [],
   "source": [
    "# Plot results - Chain B\n",
    "plt.errorbar(x=chain_B_sub[\"Time(ns)\"],y=chain_B_sub[\"avg\"],yerr=chain_B_sub['std'],label=\"Substrate\")\n",
    "plt.errorbar(x=chain_B_nosub[\"Time(ns)\"],y=chain_B_nosub[\"avg\"],yerr=chain_B_nosub['std'],label=\"No Substrate\")\n",
    "plt.errorbar(x=chain_B_sub[\"Time(ns)\"],y=chain_B_sub_rolling,label=\"Substrate Rolling Average\")\n",
    "plt.errorbar(x=chain_B_nosub[\"Time(ns)\"],y=chain_B_nosub_rolling,label=\"No Substrate Rolling Average\")\n",
    "plt.legend(loc='upper left')\n",
    "plt.title(\"Chain B Solvent Accessible Surface Area\")\n",
    "plt.xlabel(\"Time (ns)\")\n",
    "plt.ylabel(\"Area ($nm^2$)\")\n",
    "plt.savefig(\"Chain B SASA Sub vs No Sub label.png\", dpi=300)"
   ]
  }
 ],
 "metadata": {
  "kernelspec": {
   "display_name": "Python 3 (ipykernel)",
   "language": "python",
   "name": "python3"
  },
  "language_info": {
   "codemirror_mode": {
    "name": "ipython",
    "version": 3
   },
   "file_extension": ".py",
   "mimetype": "text/x-python",
   "name": "python",
   "nbconvert_exporter": "python",
   "pygments_lexer": "ipython3",
   "version": "3.10.9"
  }
 },
 "nbformat": 4,
 "nbformat_minor": 4
}
